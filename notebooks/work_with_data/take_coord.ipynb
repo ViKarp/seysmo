{
 "cells": [
  {
   "cell_type": "code",
   "execution_count": null,
   "id": "initial_id",
   "metadata": {
    "collapsed": true,
    "ExecuteTime": {
     "start_time": "2024-07-01T14:25:36.033393Z"
    }
   },
   "outputs": [],
   "source": [
    "import numpy as np\n",
    "import matplotlib.pyplot as plt\n",
    "from scipy.signal import find_peaks, welch\n",
    "from scipy.fftpack import fft\n",
    "from scipy import integrate\n",
    "from obspy import read\n",
    "from obspy.core.util import get_example_file\n",
    "import numpy as np\n",
    "import pandas as pd\n",
    "import matplotlib.pyplot as plt\n",
    "import segyio\n",
    "import pywt\n",
    "from scipy.stats import skew, kurtosis\n",
    "import swprocess"
   ]
  },
  {
   "cell_type": "code",
   "outputs": [],
   "source": [
    "segyfile= read(\"./Train_data/SGY/1.sgy\")"
   ],
   "metadata": {
    "collapsed": false,
    "ExecuteTime": {
     "start_time": "2024-07-01T14:25:36.029889Z"
    }
   },
   "id": "349858b3d79d2959",
   "execution_count": null
  },
  {
   "cell_type": "code",
   "outputs": [],
   "source": [
    "segyfile[0].stats"
   ],
   "metadata": {
    "collapsed": false,
    "ExecuteTime": {
     "start_time": "2024-07-01T14:25:36.037961Z"
    }
   },
   "id": "d384e47e33344f36",
   "execution_count": null
  },
  {
   "cell_type": "code",
   "outputs": [],
   "source": [
    "# Открываем SEG-Y файл\n",
    "source_list = []\n",
    "filename = \"./Train_data/SGY/1.sgy\"\n",
    "with segyio.open(filename, \"r\", endian = 'little') as segyfile:\n",
    "    # Читаем заголовки трасс\n",
    "    headers = segyfile.header\n",
    "    for header in headers:\n",
    "        source_list.append(header[segyio.TraceField.GroupX])"
   ],
   "metadata": {
    "collapsed": false,
    "ExecuteTime": {
     "end_time": "2024-06-29T19:30:25.522590Z",
     "start_time": "2024-06-29T19:30:25.509007Z"
    }
   },
   "id": "58a84e5f1c5ecbc0",
   "execution_count": 96
  },
  {
   "cell_type": "code",
   "outputs": [
    {
     "data": {
      "text/plain": "[4888308,\n 4888365,\n 4888423,\n 4888480,\n 4888537,\n 4888594,\n 4888651,\n 4888709,\n 4888766,\n 4888823,\n 4888880,\n 4888938,\n 4888995,\n 4889053,\n 4889110,\n 4889167,\n 4889225,\n 4889282,\n 4889340,\n 4889397,\n 4889455,\n 4889512,\n 4889570,\n 4889628,\n 4889685,\n 4889743,\n 4889800,\n 4889858,\n 4889915,\n 4889973,\n 4890030,\n 4890088,\n 4890145]"
     },
     "execution_count": 97,
     "metadata": {},
     "output_type": "execute_result"
    }
   ],
   "source": [
    "source_list"
   ],
   "metadata": {
    "collapsed": false,
    "ExecuteTime": {
     "end_time": "2024-06-29T19:30:32.366194Z",
     "start_time": "2024-06-29T19:30:32.353977Z"
    }
   },
   "id": "f976e58d12a28c16",
   "execution_count": 97
  },
  {
   "cell_type": "code",
   "outputs": [
    {
     "data": {
      "text/plain": "4889226.5"
     },
     "execution_count": 98,
     "metadata": {},
     "output_type": "execute_result"
    }
   ],
   "source": [
    "(np.min(source_list)+np.max(source_list))/2"
   ],
   "metadata": {
    "collapsed": false,
    "ExecuteTime": {
     "end_time": "2024-06-29T19:30:47.481517Z",
     "start_time": "2024-06-29T19:30:47.459588Z"
    }
   },
   "id": "227ca9f5e8f4e4a7",
   "execution_count": 98
  },
  {
   "cell_type": "code",
   "outputs": [
    {
     "data": {
      "text/plain": "{TRACE_SEQUENCE_LINE: 37259, TRACE_SEQUENCE_FILE: 0, FieldRecord: 1177, TraceNumber: 465, EnergySourcePoint: 0, CDP: 14287036, CDP_TRACE: 0, TraceIdentificationCode: 1, NSummedTraces: 0, NStackedTraces: 1, DataUse: 0, offset: 500, ReceiverGroupElevation: 69, SourceSurfaceElevation: 0, SourceDepth: 60, ReceiverDatumElevation: 0, SourceDatumElevation: 0, SourceWaterDepth: 128, GroupWaterDepth: 0, ElevationScalar: -10, SourceGroupScalar: -10, SourceX: 4888042, SourceY: 76561172, GroupX: 4890145, GroupY: 76565712, CoordinateUnits: 1, WeatheringVelocity: 0, SubWeatheringVelocity: 0, SourceUpholeTime: 0, GroupUpholeTime: 0, SourceStaticCorrection: 4, GroupStaticCorrection: 4, TotalStaticApplied: 0, LagTimeA: 0, LagTimeB: 0, DelayRecordingTime: 0, MuteTimeStart: 0, MuteTimeEND: 0, TRACE_SAMPLE_COUNT: 384, TRACE_SAMPLE_INTERVAL: 16000, GainType: 3, InstrumentGainConstant: 0, InstrumentInitialGain: 0, Correlated: 0, SweepFrequencyStart: 0, SweepFrequencyEnd: 0, SweepLength: 0, SweepType: 0, SweepTraceTaperLengthStart: 0, SweepTraceTaperLengthEnd: 0, TaperType: 0, AliasFilterFrequency: 0, AliasFilterSlope: 0, NotchFilterFrequency: 0, NotchFilterSlope: 0, LowCutFrequency: 0, HighCutFrequency: 0, LowCutSlope: 0, HighCutSlope: 0, YearDataRecorded: 2020, DayOfYear: 266, HourOfDay: 22, MinuteOfHour: 12, SecondOfMinute: 56, TimeBaseCode: 3, TraceWeightingFactor: 0, GeophoneGroupNumberRoll1: 0, GeophoneGroupNumberFirstTraceOrigField: 0, GeophoneGroupNumberLastTraceOrigField: 0, GapSize: 0, OverTravel: 0, CDP_X: 48890960, CDP_Y: 765634560, INLINE_3D: 0, CROSSLINE_3D: 0, ShotPoint: 0, ShotPointScalar: 0, TraceValueMeasurementUnit: 0, TransductionConstantMantissa: 0, TransductionConstantPower: 0, TransductionUnit: 0, TraceIdentifier: 0, ScalarTraceHeader: 0, SourceType: 0, SourceEnergyDirectionMantissa: 0, SourceEnergyDirectionExponent: 0, SourceMeasurementMantissa: 0, SourceMeasurementExponent: 0, SourceMeasurementUnit: 0}"
     },
     "execution_count": 76,
     "metadata": {},
     "output_type": "execute_result"
    }
   ],
   "source": [
    "headers[32]"
   ],
   "metadata": {
    "collapsed": false,
    "ExecuteTime": {
     "end_time": "2024-06-29T19:24:08.177990Z",
     "start_time": "2024-06-29T19:24:08.157693Z"
    }
   },
   "id": "2a6d0734aa654257",
   "execution_count": 76
  },
  {
   "cell_type": "code",
   "outputs": [],
   "source": [
    "# Открываем SEG-Y файл\n",
    "source_list = []\n",
    "filename = \"./Train_data/SGY/2.sgy\"\n",
    "with segyio.open(filename, \"r\", endian = 'little') as segyfile:\n",
    "    # Читаем заголовки трасс\n",
    "    headers = segyfile.header\n",
    "    for header in headers:\n",
    "        source_list.append(header[segyio.TraceField.GroupX])"
   ],
   "metadata": {
    "collapsed": false,
    "ExecuteTime": {
     "end_time": "2024-06-29T19:32:14.948736Z",
     "start_time": "2024-06-29T19:32:14.928601Z"
    }
   },
   "id": "56bac3e0db67d63a",
   "execution_count": 99
  },
  {
   "cell_type": "code",
   "outputs": [
    {
     "data": {
      "text/plain": "[4889707,\n 4889765,\n 4889822,\n 4889880,\n 4889938,\n 4889995,\n 4890053,\n 4890110,\n 4890168,\n 4890225,\n 4890282,\n 4890340,\n 4890397,\n 4890454,\n 4890512,\n 4890569,\n 4890626,\n 4890684,\n 4890741,\n 4890798,\n 4890855,\n 4890913,\n 4890970,\n 4891027,\n 4891085,\n 4891142,\n 4891200,\n 4891257,\n 4891315,\n 4891372,\n 4891430,\n 4891487,\n 4891545]"
     },
     "execution_count": 100,
     "metadata": {},
     "output_type": "execute_result"
    }
   ],
   "source": [
    "source_list"
   ],
   "metadata": {
    "collapsed": false,
    "ExecuteTime": {
     "end_time": "2024-06-29T19:32:15.618888Z",
     "start_time": "2024-06-29T19:32:15.601438Z"
    }
   },
   "id": "d5b008126aa16fe1",
   "execution_count": 100
  },
  {
   "cell_type": "code",
   "outputs": [
    {
     "data": {
      "text/plain": "4890626.0"
     },
     "execution_count": 101,
     "metadata": {},
     "output_type": "execute_result"
    }
   ],
   "source": [
    "(np.min(source_list)+np.max(source_list))/2"
   ],
   "metadata": {
    "collapsed": false,
    "ExecuteTime": {
     "end_time": "2024-06-29T19:32:16.869819Z",
     "start_time": "2024-06-29T19:32:16.857323Z"
    }
   },
   "id": "fea944eef76a100c",
   "execution_count": 101
  },
  {
   "cell_type": "code",
   "outputs": [],
   "source": [
    "# Открываем SEG-Y файл\n",
    "field_list = []\n",
    "filename = \"./Train_data/SGY/1.sgy\"\n",
    "with segyio.open(filename, \"r\", endian = 'little') as segyfile:\n",
    "    # Читаем заголовки трасс\n",
    "    headers = segyfile.header\n",
    "    for header in headers:\n",
    "        field_list.append(header[segyio.TraceField.FieldRecord])"
   ],
   "metadata": {
    "collapsed": false,
    "ExecuteTime": {
     "end_time": "2024-06-29T19:52:33.519772Z",
     "start_time": "2024-06-29T19:52:33.507485Z"
    }
   },
   "id": "a8aa4ed9650ca82a",
   "execution_count": 102
  },
  {
   "cell_type": "code",
   "outputs": [
    {
     "data": {
      "text/plain": "[1177,\n 1177,\n 1177,\n 1177,\n 1177,\n 1177,\n 1177,\n 1177,\n 1177,\n 1177,\n 1177,\n 1177,\n 1177,\n 1177,\n 1177,\n 1177,\n 1177,\n 1177,\n 1177,\n 1177,\n 1177,\n 1177,\n 1177,\n 1177,\n 1177,\n 1177,\n 1177,\n 1177,\n 1177,\n 1177,\n 1177,\n 1177,\n 1177]"
     },
     "execution_count": 103,
     "metadata": {},
     "output_type": "execute_result"
    }
   ],
   "source": [
    "field_list"
   ],
   "metadata": {
    "collapsed": false,
    "ExecuteTime": {
     "end_time": "2024-06-29T19:52:36.685538Z",
     "start_time": "2024-06-29T19:52:36.669707Z"
    }
   },
   "id": "7d447ffd0915f54b",
   "execution_count": 103
  },
  {
   "cell_type": "code",
   "outputs": [],
   "source": [
    "# Открываем SEG-Y файл\n",
    "field_list = []\n",
    "filename = \"./Train_data/SGY/Profile.sgy\"\n",
    "with segyio.open(filename, \"r\", ignore_geometry=True) as segyfile:\n",
    "    # Читаем заголовки трасс\n",
    "    headers = segyfile.header\n",
    "    for header in headers:\n",
    "        field_list.append(header[segyio.TraceField.FieldRecord])"
   ],
   "metadata": {
    "collapsed": false,
    "ExecuteTime": {
     "end_time": "2024-06-29T20:40:04.049531Z",
     "start_time": "2024-06-29T20:40:04.011264Z"
    }
   },
   "id": "be03a13c47a74ef0",
   "execution_count": 130
  },
  {
   "cell_type": "code",
   "outputs": [
    {
     "data": {
      "text/plain": "[1177,\n 1177,\n 1177,\n 1177,\n 1177,\n 1177,\n 1177,\n 1177,\n 1177,\n 1177,\n 1177,\n 1177,\n 1177,\n 1177,\n 1177,\n 1177,\n 1177,\n 1177,\n 1177,\n 1177,\n 1177,\n 1177,\n 1177,\n 1177,\n 1177,\n 1177,\n 1177,\n 1177,\n 1177,\n 1177,\n 1177,\n 1177,\n 1177,\n 1191,\n 1191,\n 1191,\n 1191,\n 1191,\n 1191,\n 1191,\n 1191,\n 1191,\n 1191,\n 1191,\n 1191,\n 1191,\n 1191,\n 1191,\n 1191,\n 1191,\n 1191,\n 1191,\n 1191,\n 1191,\n 1191,\n 1191,\n 1191,\n 1191,\n 1191,\n 1191,\n 1191,\n 1191,\n 1191,\n 1191,\n 1191,\n 1191,\n 1205,\n 1205,\n 1205,\n 1205,\n 1205,\n 1205,\n 1205,\n 1205,\n 1205,\n 1205,\n 1205,\n 1205,\n 1205,\n 1205,\n 1205,\n 1205,\n 1205,\n 1205,\n 1205,\n 1205,\n 1205,\n 1205,\n 1205,\n 1205,\n 1205,\n 1205,\n 1205,\n 1205,\n 1205,\n 1205,\n 1205,\n 1205,\n 1205,\n 1219,\n 1219,\n 1219,\n 1219,\n 1219,\n 1219,\n 1219,\n 1219,\n 1219,\n 1219,\n 1219,\n 1219,\n 1219,\n 1219,\n 1219,\n 1219,\n 1219,\n 1219,\n 1219,\n 1219,\n 1219,\n 1219,\n 1219,\n 1219,\n 1219,\n 1219,\n 1219,\n 1219,\n 1219,\n 1219,\n 1219,\n 1219,\n 1219,\n 1233,\n 1233,\n 1233,\n 1233,\n 1233,\n 1233,\n 1233,\n 1233,\n 1233,\n 1233,\n 1233,\n 1233,\n 1233,\n 1233,\n 1233,\n 1233,\n 1233,\n 1233,\n 1233,\n 1233,\n 1233,\n 1233,\n 1233,\n 1233,\n 1233,\n 1233,\n 1233,\n 1233,\n 1233,\n 1233,\n 1233,\n 1233,\n 1233,\n 1247,\n 1247,\n 1247,\n 1247,\n 1247,\n 1247,\n 1247,\n 1247,\n 1247,\n 1247,\n 1247,\n 1247,\n 1247,\n 1247,\n 1247,\n 1247,\n 1247,\n 1247,\n 1247,\n 1247,\n 1247,\n 1247,\n 1247,\n 1247,\n 1247,\n 1247,\n 1247,\n 1247,\n 1247,\n 1247,\n 1247,\n 1247,\n 1247,\n 1261,\n 1261,\n 1261,\n 1261,\n 1261,\n 1261,\n 1261,\n 1261,\n 1261,\n 1261,\n 1261,\n 1261,\n 1261,\n 1261,\n 1261,\n 1261,\n 1261,\n 1261,\n 1261,\n 1261,\n 1261,\n 1261,\n 1261,\n 1261,\n 1261,\n 1261,\n 1261,\n 1261,\n 1261,\n 1261,\n 1261,\n 1261,\n 1261,\n 1275,\n 1275,\n 1275,\n 1275,\n 1275,\n 1275,\n 1275,\n 1275,\n 1275,\n 1275,\n 1275,\n 1275,\n 1275,\n 1275,\n 1275,\n 1275,\n 1275,\n 1275,\n 1275,\n 1275,\n 1275,\n 1275,\n 1275,\n 1275,\n 1275,\n 1275,\n 1275,\n 1275,\n 1275,\n 1275,\n 1275,\n 1275,\n 1275,\n 1289,\n 1289,\n 1289,\n 1289,\n 1289,\n 1289,\n 1289,\n 1289,\n 1289,\n 1289,\n 1289,\n 1289,\n 1289,\n 1289,\n 1289,\n 1289,\n 1289,\n 1289,\n 1289,\n 1289,\n 1289,\n 1289,\n 1289,\n 1289,\n 1289,\n 1289,\n 1289,\n 1289,\n 1289,\n 1289,\n 1289,\n 1289,\n 1289,\n 1303,\n 1303,\n 1303,\n 1303,\n 1303,\n 1303,\n 1303,\n 1303,\n 1303,\n 1303,\n 1303,\n 1303,\n 1303,\n 1303,\n 1303,\n 1303,\n 1303,\n 1303,\n 1303,\n 1303,\n 1303,\n 1303,\n 1303,\n 1303,\n 1303,\n 1303,\n 1303,\n 1303,\n 1303,\n 1303,\n 1303,\n 1303,\n 1317,\n 1317,\n 1317,\n 1317,\n 1317,\n 1317,\n 1317,\n 1317,\n 1317,\n 1317,\n 1317,\n 1317,\n 1317,\n 1317,\n 1317,\n 1317,\n 1317,\n 1317,\n 1317,\n 1317,\n 1317,\n 1317,\n 1317,\n 1317,\n 1317,\n 1317,\n 1317,\n 1317,\n 1317,\n 1317,\n 1317,\n 1317,\n 1331,\n 1331,\n 1331,\n 1331,\n 1331,\n 1331,\n 1331,\n 1331,\n 1331,\n 1331,\n 1331,\n 1331,\n 1331,\n 1331,\n 1331,\n 1331,\n 1331,\n 1331,\n 1331,\n 1331,\n 1331,\n 1331,\n 1331,\n 1331,\n 1331,\n 1331,\n 1331,\n 1331,\n 1331,\n 1331,\n 1331,\n 1331,\n 1345,\n 1345,\n 1345,\n 1345,\n 1345,\n 1345,\n 1345,\n 1345,\n 1345,\n 1345,\n 1345,\n 1345,\n 1345,\n 1345,\n 1345,\n 1345,\n 1345,\n 1345,\n 1345,\n 1345,\n 1345,\n 1345,\n 1345,\n 1345,\n 1345,\n 1345,\n 1345,\n 1345,\n 1345,\n 1345,\n 1345,\n 1345,\n 1359,\n 1359,\n 1359,\n 1359,\n 1359,\n 1359,\n 1359,\n 1359,\n 1359,\n 1359,\n 1359,\n 1359,\n 1359,\n 1359,\n 1359,\n 1359,\n 1359,\n 1359,\n 1359,\n 1359,\n 1359,\n 1359,\n 1359,\n 1359,\n 1359,\n 1359,\n 1359,\n 1359,\n 1359,\n 1359,\n 1359,\n 1359,\n 1373,\n 1373,\n 1373,\n 1373,\n 1373,\n 1373,\n 1373,\n 1373,\n 1373,\n 1373,\n 1373,\n 1373,\n 1373,\n 1373,\n 1373,\n 1373,\n 1373,\n 1373,\n 1373,\n 1373,\n 1373,\n 1373,\n 1373,\n 1373,\n 1373,\n 1373,\n 1373,\n 1373,\n 1373,\n 1373,\n 1373,\n 1373,\n 1387,\n 1387,\n 1387,\n 1387,\n 1387,\n 1387,\n 1387,\n 1387,\n 1387,\n 1387,\n 1387,\n 1387,\n 1387,\n 1387,\n 1387,\n 1387,\n 1387,\n 1387,\n 1387,\n 1387,\n 1387,\n 1387,\n 1387,\n 1387,\n 1387,\n 1387,\n 1387,\n 1387,\n 1387,\n 1387,\n 1387,\n 1387,\n 1401,\n 1401,\n 1401,\n 1401,\n 1401,\n 1401,\n 1401,\n 1401,\n 1401,\n 1401,\n 1401,\n 1401,\n 1401,\n 1401,\n 1401,\n 1401,\n 1401,\n 1401,\n 1401,\n 1401,\n 1401,\n 1401,\n 1401,\n 1401,\n 1401,\n 1401,\n 1401,\n 1401,\n 1401,\n 1401,\n 1401,\n 1401,\n 1415,\n 1415,\n 1415,\n 1415,\n 1415,\n 1415,\n 1415,\n 1415,\n 1415,\n 1415,\n 1415,\n 1415,\n 1415,\n 1415,\n 1415,\n 1415,\n 1415,\n 1415,\n 1415,\n 1415,\n 1415,\n 1415,\n 1415,\n 1415,\n 1415,\n 1415,\n 1415,\n 1415,\n 1415,\n 1415,\n 1415,\n 1415,\n 1429,\n 1429,\n 1429,\n 1429,\n 1429,\n 1429,\n 1429,\n 1429,\n 1429,\n 1429,\n 1429,\n 1429,\n 1429,\n 1429,\n 1429,\n 1429,\n 1429,\n 1429,\n 1429,\n 1429,\n 1429,\n 1429,\n 1429,\n 1429,\n 1429,\n 1429,\n 1429,\n 1429,\n 1429,\n 1429,\n 1429,\n 1429,\n 1443,\n 1443,\n 1443,\n 1443,\n 1443,\n 1443,\n 1443,\n 1443,\n 1443,\n 1443,\n 1443,\n 1443,\n 1443,\n 1443,\n 1443,\n 1443,\n 1443,\n 1443,\n 1443,\n 1443,\n 1443,\n 1443,\n 1443,\n 1443,\n 1443,\n 1443,\n 1443,\n 1443,\n 1443,\n 1443,\n 1443,\n 1443,\n 1457,\n 1457,\n 1457,\n 1457,\n 1457,\n 1457,\n 1457,\n 1457,\n 1457,\n 1457,\n 1457,\n 1457,\n 1457,\n 1457,\n 1457,\n 1457,\n 1457,\n 1457,\n 1457,\n 1457,\n 1457,\n 1457,\n 1457,\n 1457,\n 1457,\n 1457,\n 1457,\n 1457,\n 1457,\n 1457,\n 1457,\n 1457,\n 1471,\n 1471,\n 1471,\n 1471,\n 1471,\n 1471,\n 1471,\n 1471,\n 1471,\n 1471,\n 1471,\n 1471,\n 1471,\n 1471,\n 1471,\n 1471,\n 1471,\n 1471,\n 1471,\n 1471,\n 1471,\n 1471,\n 1471,\n 1471,\n 1471,\n 1471,\n 1471,\n 1471,\n 1471,\n 1471,\n 1471,\n 1471,\n 1485,\n 1485,\n 1485,\n 1485,\n 1485,\n 1485,\n 1485,\n 1485,\n 1485,\n 1485,\n 1485,\n 1485,\n 1485,\n 1485,\n 1485,\n 1485,\n 1485,\n 1485,\n 1485,\n 1485,\n 1485,\n 1485,\n 1485,\n 1485,\n 1485,\n 1485,\n 1485,\n 1485,\n 1485,\n 1485,\n 1485,\n 1485,\n 1499,\n 1499,\n 1499,\n 1499,\n 1499,\n 1499,\n 1499,\n 1499,\n 1499,\n 1499,\n 1499,\n 1499,\n 1499,\n 1499,\n 1499,\n 1499,\n 1499,\n 1499,\n 1499,\n 1499,\n 1499,\n 1499,\n 1499,\n 1499,\n 1499,\n 1499,\n 1499,\n 1499,\n 1499,\n 1499,\n 1499,\n 1499,\n 1513,\n 1513,\n 1513,\n 1513,\n 1513,\n 1513,\n 1513,\n 1513,\n 1513,\n 1513,\n 1513,\n 1513,\n 1513,\n 1513,\n 1513,\n 1513,\n 1513,\n 1513,\n 1513,\n 1513,\n 1513,\n 1513,\n 1513,\n 1513,\n 1513,\n 1513,\n 1513,\n 1513,\n 1513,\n 1513,\n 1513,\n 1513,\n 1527,\n 1527,\n 1527,\n 1527,\n 1527,\n 1527,\n 1527,\n 1527,\n 1527,\n 1527,\n 1527,\n 1527,\n 1527,\n 1527,\n 1527,\n 1527,\n 1527,\n 1527,\n 1527,\n 1527,\n 1527,\n 1527,\n 1527,\n 1527,\n 1527,\n 1527,\n 1527,\n 1527,\n 1527,\n 1527,\n 1527,\n 1527,\n 1541,\n 1541,\n 1541,\n 1541,\n 1541,\n 1541,\n 1541,\n 1541,\n 1541,\n 1541,\n 1541,\n 1541,\n 1541,\n 1541,\n 1541,\n 1541,\n 1541,\n 1541,\n 1541,\n 1541,\n 1541,\n 1541,\n 1541,\n 1541,\n 1541,\n 1541,\n 1541,\n 1541,\n 1541,\n 1541,\n 1541,\n 1541,\n 1555,\n 1555,\n 1555,\n 1555,\n 1555,\n 1555,\n 1555,\n 1555,\n 1555,\n 1555,\n 1555,\n 1555,\n 1555,\n 1555,\n 1555,\n 1555,\n 1555,\n 1555,\n 1555,\n 1555,\n 1555,\n 1555,\n 1555,\n 1555,\n 1555,\n 1555,\n 1555,\n 1555,\n 1555,\n 1555,\n 1555,\n 1555,\n 1569,\n 1569,\n 1569,\n 1569,\n 1569,\n 1569,\n 1569,\n 1569,\n 1569,\n 1569,\n 1569,\n 1569,\n 1569,\n 1569,\n 1569,\n 1569,\n 1569,\n 1569,\n 1569,\n 1569,\n 1569,\n 1569,\n 1569,\n 1569,\n 1569,\n 1569,\n 1569,\n 1569,\n 1569,\n 1569,\n 1569,\n 1569,\n 1583,\n 1583,\n 1583,\n 1583,\n 1583,\n 1583,\n 1583,\n 1583,\n 1583,\n 1583,\n 1583,\n 1583,\n 1583,\n 1583,\n 1583,\n 1583,\n 1583,\n 1583,\n 1583,\n 1583,\n 1583,\n 1583,\n 1583,\n 1583,\n 1583,\n 1583,\n 1583,\n 1583,\n 1583,\n 1583,\n 1583,\n 1583,\n 1597,\n 1597,\n 1597,\n 1597,\n 1597,\n 1597,\n 1597,\n 1597,\n 1597,\n 1597,\n 1597,\n 1597,\n 1597,\n 1597,\n 1597,\n 1597,\n 1597,\n 1597,\n 1597,\n 1597,\n 1597,\n 1597,\n 1597,\n 1597,\n 1597,\n 1597,\n 1597,\n 1597,\n 1597,\n 1597,\n 1597,\n ...]"
     },
     "execution_count": 131,
     "metadata": {},
     "output_type": "execute_result"
    }
   ],
   "source": [
    "field_list"
   ],
   "metadata": {
    "collapsed": false,
    "ExecuteTime": {
     "end_time": "2024-06-29T20:40:07.522208Z",
     "start_time": "2024-06-29T20:40:07.493669Z"
    }
   },
   "id": "13bd407f1c975f22",
   "execution_count": 131
  },
  {
   "cell_type": "code",
   "outputs": [],
   "source": [
    "def coord_func(x):\n",
    "    return pd.DataFrame([[(np.min(x['REC_X'])+np.max(x['REC_X']))/2, (np.min(x['REC_Y'])+np.max(x['REC_Y']))/2]], columns=[\"Receiver Midpoint_X\", \"Receiver Midpoint_Y\"])\n",
    "def segy2df(filename):\n",
    "    base = {'FFID':[], 'CHAN':[], \"REC_X\":[], \"REC_Y\":[]}\n",
    "    with segyio.open(filename, \"r\", ignore_geometry=True) as segyfile:\n",
    "    #with segyio.open(filename, \"r\", endian='little') as segyfile:\n",
    "        headers = segyfile.header\n",
    "        for header in headers:\n",
    "            base['FFID'].append(header[segyio.TraceField.FieldRecord])\n",
    "            base['CHAN'].append(header[segyio.TraceField.TraceNumber])\n",
    "            base['REC_X'].append(header[segyio.TraceField.GroupX])\n",
    "            base['REC_Y'].append(header[segyio.TraceField.GroupY])\n",
    "    df = pd.DataFrame(base)\n",
    "    return df.groupby('FFID').apply(coord_func)\n",
    "    "
   ],
   "metadata": {
    "collapsed": false,
    "ExecuteTime": {
     "end_time": "2024-07-01T14:25:39.365072Z",
     "start_time": "2024-07-01T14:25:39.351102Z"
    }
   },
   "id": "5347ced693c413a7",
   "execution_count": 3
  },
  {
   "cell_type": "code",
   "outputs": [
    {
     "name": "stderr",
     "output_type": "stream",
     "text": [
      "C:\\Users\\vitya\\AppData\\Local\\Temp\\ipykernel_16920\\461671266.py:14: DeprecationWarning: DataFrameGroupBy.apply operated on the grouping columns. This behavior is deprecated, and in a future version of pandas the grouping columns will be excluded from the operation. Either pass `include_groups=False` to exclude the groupings or explicitly select the grouping columns after groupby to silence this warning.\n",
      "  return df.groupby('FFID').apply(coord_func)\n"
     ]
    }
   ],
   "source": [
    "df = segy2df('./Train_data/SGY/Profile.sgy')"
   ],
   "metadata": {
    "collapsed": false,
    "ExecuteTime": {
     "end_time": "2024-07-01T14:25:39.753391Z",
     "start_time": "2024-07-01T14:25:39.637615Z"
    }
   },
   "id": "572ab5565232139e",
   "execution_count": 4
  },
  {
   "cell_type": "code",
   "outputs": [
    {
     "data": {
      "text/plain": "        Receiver Midpoint_X  Receiver Midpoint_Y\nFFID                                            \n1177 0            4889226.5           76563934.0\n1191 0            4890626.0           76566155.0\n1205 0            4892036.5           76568368.5\n1219 0            4893477.5           76570569.5\n1233 0            4894884.5           76572785.5\n...                     ...                  ...\n2171 0            4989537.0           76720934.5\n2185 0            4991033.0           76723102.5\n2199 0            4992512.0           76725274.0\n2213 0            4993943.5           76727448.0\n2227 0            4995339.5           76729646.5\n\n[76 rows x 2 columns]",
      "text/html": "<div>\n<style scoped>\n    .dataframe tbody tr th:only-of-type {\n        vertical-align: middle;\n    }\n\n    .dataframe tbody tr th {\n        vertical-align: top;\n    }\n\n    .dataframe thead th {\n        text-align: right;\n    }\n</style>\n<table border=\"1\" class=\"dataframe\">\n  <thead>\n    <tr style=\"text-align: right;\">\n      <th></th>\n      <th></th>\n      <th>Receiver Midpoint_X</th>\n      <th>Receiver Midpoint_Y</th>\n    </tr>\n    <tr>\n      <th>FFID</th>\n      <th></th>\n      <th></th>\n      <th></th>\n    </tr>\n  </thead>\n  <tbody>\n    <tr>\n      <th>1177</th>\n      <th>0</th>\n      <td>4889226.5</td>\n      <td>76563934.0</td>\n    </tr>\n    <tr>\n      <th>1191</th>\n      <th>0</th>\n      <td>4890626.0</td>\n      <td>76566155.0</td>\n    </tr>\n    <tr>\n      <th>1205</th>\n      <th>0</th>\n      <td>4892036.5</td>\n      <td>76568368.5</td>\n    </tr>\n    <tr>\n      <th>1219</th>\n      <th>0</th>\n      <td>4893477.5</td>\n      <td>76570569.5</td>\n    </tr>\n    <tr>\n      <th>1233</th>\n      <th>0</th>\n      <td>4894884.5</td>\n      <td>76572785.5</td>\n    </tr>\n    <tr>\n      <th>...</th>\n      <th>...</th>\n      <td>...</td>\n      <td>...</td>\n    </tr>\n    <tr>\n      <th>2171</th>\n      <th>0</th>\n      <td>4989537.0</td>\n      <td>76720934.5</td>\n    </tr>\n    <tr>\n      <th>2185</th>\n      <th>0</th>\n      <td>4991033.0</td>\n      <td>76723102.5</td>\n    </tr>\n    <tr>\n      <th>2199</th>\n      <th>0</th>\n      <td>4992512.0</td>\n      <td>76725274.0</td>\n    </tr>\n    <tr>\n      <th>2213</th>\n      <th>0</th>\n      <td>4993943.5</td>\n      <td>76727448.0</td>\n    </tr>\n    <tr>\n      <th>2227</th>\n      <th>0</th>\n      <td>4995339.5</td>\n      <td>76729646.5</td>\n    </tr>\n  </tbody>\n</table>\n<p>76 rows × 2 columns</p>\n</div>"
     },
     "execution_count": 5,
     "metadata": {},
     "output_type": "execute_result"
    }
   ],
   "source": [
    "df"
   ],
   "metadata": {
    "collapsed": false,
    "ExecuteTime": {
     "end_time": "2024-07-01T14:25:41.194521Z",
     "start_time": "2024-07-01T14:25:41.162766Z"
    }
   },
   "id": "201f8f156f4ecb11",
   "execution_count": 5
  },
  {
   "cell_type": "code",
   "outputs": [],
   "source": [
    "df[\"Receiver Midpoint_X\"] =df[\"Receiver Midpoint_X\"]/10\n",
    "df[\"Receiver Midpoint_Y\"] =df[\"Receiver Midpoint_Y\"]/10"
   ],
   "metadata": {
    "collapsed": false,
    "ExecuteTime": {
     "end_time": "2024-07-01T14:25:42.763802Z",
     "start_time": "2024-07-01T14:25:42.752177Z"
    }
   },
   "id": "2ea8ee20e26ade7b",
   "execution_count": 6
  },
  {
   "cell_type": "code",
   "outputs": [],
   "source": [
    "profile_txt = pd.read_csv(f\"./Train_data/TXT/Profile.txt\", delimiter=\"\\t\")"
   ],
   "metadata": {
    "collapsed": false,
    "ExecuteTime": {
     "end_time": "2024-07-01T14:25:43.914997Z",
     "start_time": "2024-07-01T14:25:43.898831Z"
    }
   },
   "id": "e77b81a2c654c3fc",
   "execution_count": 7
  },
  {
   "cell_type": "code",
   "outputs": [
    {
     "data": {
      "text/plain": "     Receiver Midpoint_X   Depth  Velocity  REC_STAT1  REC_STAT2    Vs30\n0              488922.65   4.889   131.861          0          0  160.36\n1              488922.65  14.667   143.536          0          0  160.36\n2              488922.65  24.444   230.461          0          0  160.36\n3              488922.65  34.222   279.696          0          0  160.36\n4              488922.65  44.000   297.708          0          0  160.36\n..                   ...     ...       ...        ...        ...     ...\n755            499533.95  53.778   389.716          0          0  171.30\n756            499533.95  63.556   343.989          0          0  171.30\n757            499533.95  73.333   327.319          0          0  171.30\n758            499533.95  83.111   314.909          0          0  171.30\n759            499533.95  92.400   309.141          0          0  171.30\n\n[760 rows x 6 columns]",
      "text/html": "<div>\n<style scoped>\n    .dataframe tbody tr th:only-of-type {\n        vertical-align: middle;\n    }\n\n    .dataframe tbody tr th {\n        vertical-align: top;\n    }\n\n    .dataframe thead th {\n        text-align: right;\n    }\n</style>\n<table border=\"1\" class=\"dataframe\">\n  <thead>\n    <tr style=\"text-align: right;\">\n      <th></th>\n      <th>Receiver Midpoint_X</th>\n      <th>Depth</th>\n      <th>Velocity</th>\n      <th>REC_STAT1</th>\n      <th>REC_STAT2</th>\n      <th>Vs30</th>\n    </tr>\n  </thead>\n  <tbody>\n    <tr>\n      <th>0</th>\n      <td>488922.65</td>\n      <td>4.889</td>\n      <td>131.861</td>\n      <td>0</td>\n      <td>0</td>\n      <td>160.36</td>\n    </tr>\n    <tr>\n      <th>1</th>\n      <td>488922.65</td>\n      <td>14.667</td>\n      <td>143.536</td>\n      <td>0</td>\n      <td>0</td>\n      <td>160.36</td>\n    </tr>\n    <tr>\n      <th>2</th>\n      <td>488922.65</td>\n      <td>24.444</td>\n      <td>230.461</td>\n      <td>0</td>\n      <td>0</td>\n      <td>160.36</td>\n    </tr>\n    <tr>\n      <th>3</th>\n      <td>488922.65</td>\n      <td>34.222</td>\n      <td>279.696</td>\n      <td>0</td>\n      <td>0</td>\n      <td>160.36</td>\n    </tr>\n    <tr>\n      <th>4</th>\n      <td>488922.65</td>\n      <td>44.000</td>\n      <td>297.708</td>\n      <td>0</td>\n      <td>0</td>\n      <td>160.36</td>\n    </tr>\n    <tr>\n      <th>...</th>\n      <td>...</td>\n      <td>...</td>\n      <td>...</td>\n      <td>...</td>\n      <td>...</td>\n      <td>...</td>\n    </tr>\n    <tr>\n      <th>755</th>\n      <td>499533.95</td>\n      <td>53.778</td>\n      <td>389.716</td>\n      <td>0</td>\n      <td>0</td>\n      <td>171.30</td>\n    </tr>\n    <tr>\n      <th>756</th>\n      <td>499533.95</td>\n      <td>63.556</td>\n      <td>343.989</td>\n      <td>0</td>\n      <td>0</td>\n      <td>171.30</td>\n    </tr>\n    <tr>\n      <th>757</th>\n      <td>499533.95</td>\n      <td>73.333</td>\n      <td>327.319</td>\n      <td>0</td>\n      <td>0</td>\n      <td>171.30</td>\n    </tr>\n    <tr>\n      <th>758</th>\n      <td>499533.95</td>\n      <td>83.111</td>\n      <td>314.909</td>\n      <td>0</td>\n      <td>0</td>\n      <td>171.30</td>\n    </tr>\n    <tr>\n      <th>759</th>\n      <td>499533.95</td>\n      <td>92.400</td>\n      <td>309.141</td>\n      <td>0</td>\n      <td>0</td>\n      <td>171.30</td>\n    </tr>\n  </tbody>\n</table>\n<p>760 rows × 6 columns</p>\n</div>"
     },
     "execution_count": 8,
     "metadata": {},
     "output_type": "execute_result"
    }
   ],
   "source": [
    "profile_txt.rename(columns={\"Receiver Midpoint\":\"Receiver Midpoint_X\"}, inplace=True)\n",
    "profile_txt"
   ],
   "metadata": {
    "collapsed": false,
    "ExecuteTime": {
     "end_time": "2024-07-01T14:25:45.274142Z",
     "start_time": "2024-07-01T14:25:45.244936Z"
    }
   },
   "id": "b24ab0b67e64722d",
   "execution_count": 8
  },
  {
   "cell_type": "code",
   "outputs": [],
   "source": [
    "df_last = pd.merge(df, profile_txt)"
   ],
   "metadata": {
    "collapsed": false,
    "ExecuteTime": {
     "end_time": "2024-07-01T14:25:49.165394Z",
     "start_time": "2024-07-01T14:25:49.153412Z"
    }
   },
   "id": "adf1b0aff75e4932",
   "execution_count": 9
  },
  {
   "cell_type": "code",
   "outputs": [],
   "source": [
    "df_last['Depth'] = -df_last['Depth']\n",
    "df_last.drop(['REC_STAT1', 'REC_STAT2', 'Vs30'], axis=1, inplace=True)"
   ],
   "metadata": {
    "collapsed": false,
    "ExecuteTime": {
     "end_time": "2024-07-01T14:25:50.341099Z",
     "start_time": "2024-07-01T14:25:50.333066Z"
    }
   },
   "id": "f8a8661c3ea8148f",
   "execution_count": 10
  },
  {
   "cell_type": "code",
   "outputs": [
    {
     "data": {
      "text/plain": "     Receiver Midpoint_X  Receiver Midpoint_Y   Depth  Velocity\n0              488922.65           7656393.40  -4.889   131.861\n1              488922.65           7656393.40 -14.667   143.536\n2              488922.65           7656393.40 -24.444   230.461\n3              488922.65           7656393.40 -34.222   279.696\n4              488922.65           7656393.40 -44.000   297.708\n..                   ...                  ...     ...       ...\n755            499533.95           7672964.65 -53.778   389.716\n756            499533.95           7672964.65 -63.556   343.989\n757            499533.95           7672964.65 -73.333   327.319\n758            499533.95           7672964.65 -83.111   314.909\n759            499533.95           7672964.65 -92.400   309.141\n\n[760 rows x 4 columns]",
      "text/html": "<div>\n<style scoped>\n    .dataframe tbody tr th:only-of-type {\n        vertical-align: middle;\n    }\n\n    .dataframe tbody tr th {\n        vertical-align: top;\n    }\n\n    .dataframe thead th {\n        text-align: right;\n    }\n</style>\n<table border=\"1\" class=\"dataframe\">\n  <thead>\n    <tr style=\"text-align: right;\">\n      <th></th>\n      <th>Receiver Midpoint_X</th>\n      <th>Receiver Midpoint_Y</th>\n      <th>Depth</th>\n      <th>Velocity</th>\n    </tr>\n  </thead>\n  <tbody>\n    <tr>\n      <th>0</th>\n      <td>488922.65</td>\n      <td>7656393.40</td>\n      <td>-4.889</td>\n      <td>131.861</td>\n    </tr>\n    <tr>\n      <th>1</th>\n      <td>488922.65</td>\n      <td>7656393.40</td>\n      <td>-14.667</td>\n      <td>143.536</td>\n    </tr>\n    <tr>\n      <th>2</th>\n      <td>488922.65</td>\n      <td>7656393.40</td>\n      <td>-24.444</td>\n      <td>230.461</td>\n    </tr>\n    <tr>\n      <th>3</th>\n      <td>488922.65</td>\n      <td>7656393.40</td>\n      <td>-34.222</td>\n      <td>279.696</td>\n    </tr>\n    <tr>\n      <th>4</th>\n      <td>488922.65</td>\n      <td>7656393.40</td>\n      <td>-44.000</td>\n      <td>297.708</td>\n    </tr>\n    <tr>\n      <th>...</th>\n      <td>...</td>\n      <td>...</td>\n      <td>...</td>\n      <td>...</td>\n    </tr>\n    <tr>\n      <th>755</th>\n      <td>499533.95</td>\n      <td>7672964.65</td>\n      <td>-53.778</td>\n      <td>389.716</td>\n    </tr>\n    <tr>\n      <th>756</th>\n      <td>499533.95</td>\n      <td>7672964.65</td>\n      <td>-63.556</td>\n      <td>343.989</td>\n    </tr>\n    <tr>\n      <th>757</th>\n      <td>499533.95</td>\n      <td>7672964.65</td>\n      <td>-73.333</td>\n      <td>327.319</td>\n    </tr>\n    <tr>\n      <th>758</th>\n      <td>499533.95</td>\n      <td>7672964.65</td>\n      <td>-83.111</td>\n      <td>314.909</td>\n    </tr>\n    <tr>\n      <th>759</th>\n      <td>499533.95</td>\n      <td>7672964.65</td>\n      <td>-92.400</td>\n      <td>309.141</td>\n    </tr>\n  </tbody>\n</table>\n<p>760 rows × 4 columns</p>\n</div>"
     },
     "execution_count": 11,
     "metadata": {},
     "output_type": "execute_result"
    }
   ],
   "source": [
    "df_last"
   ],
   "metadata": {
    "collapsed": false,
    "ExecuteTime": {
     "end_time": "2024-07-01T14:25:51.160430Z",
     "start_time": "2024-07-01T14:25:51.135499Z"
    }
   },
   "id": "582cac18661d3eb2",
   "execution_count": 11
  },
  {
   "cell_type": "code",
   "outputs": [],
   "source": [],
   "metadata": {
    "collapsed": false
   },
   "id": "8e899c0e629908b7"
  }
 ],
 "metadata": {
  "kernelspec": {
   "display_name": "Python 3",
   "language": "python",
   "name": "python3"
  },
  "language_info": {
   "codemirror_mode": {
    "name": "ipython",
    "version": 2
   },
   "file_extension": ".py",
   "mimetype": "text/x-python",
   "name": "python",
   "nbconvert_exporter": "python",
   "pygments_lexer": "ipython2",
   "version": "2.7.6"
  }
 },
 "nbformat": 4,
 "nbformat_minor": 5
}
