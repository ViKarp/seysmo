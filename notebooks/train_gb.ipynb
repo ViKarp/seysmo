{
 "cells": [
  {
   "cell_type": "code",
   "execution_count": 1,
   "id": "initial_id",
   "metadata": {
    "collapsed": true,
    "ExecuteTime": {
     "end_time": "2024-07-25T11:05:43.858165Z",
     "start_time": "2024-07-25T11:05:40.227216Z"
    }
   },
   "outputs": [],
   "source": [
    "import numpy as np\n",
    "import pandas as pd\n",
    "import matplotlib.pyplot as plt\n",
    "from sklearn.model_selection import train_test_split\n",
    "from sklearn.metrics import mean_squared_error, r2_score, mean_absolute_percentage_error, mean_absolute_error\n",
    "import lightgbm as lgb\n",
    "import mlflow\n",
    "import mlflow.lightgbm\n",
    "import optuna"
   ]
  },
  {
   "cell_type": "code",
   "outputs": [
    {
     "data": {
      "text/plain": "(33133, 14454)"
     },
     "execution_count": 2,
     "metadata": {},
     "output_type": "execute_result"
    }
   ],
   "source": [
    "data = np.load(\"../data/processed/max_inputs.npy\")\n",
    "data = data.reshape((33133,33*438))\n",
    "data.shape"
   ],
   "metadata": {
    "collapsed": false,
    "ExecuteTime": {
     "end_time": "2024-07-25T11:05:45.753928Z",
     "start_time": "2024-07-25T11:05:43.860351Z"
    }
   },
   "id": "b3ee96eb313c2e50",
   "execution_count": 2
  },
  {
   "cell_type": "code",
   "outputs": [
    {
     "data": {
      "text/plain": "(33133, 10)"
     },
     "execution_count": 3,
     "metadata": {},
     "output_type": "execute_result"
    }
   ],
   "source": [
    "output = np.load(\"../data/processed/max_outputs.npy\")\n",
    "output.shape"
   ],
   "metadata": {
    "collapsed": false,
    "ExecuteTime": {
     "end_time": "2024-07-25T11:05:45.768918Z",
     "start_time": "2024-07-25T11:05:45.756080Z"
    }
   },
   "id": "955a60dbd2d3cd09",
   "execution_count": 3
  },
  {
   "cell_type": "code",
   "outputs": [],
   "source": [
    "X_train, X_test, y_train, y_test = train_test_split(data, output, test_size=0.66, random_state=1)\n",
    "\n",
    "X_test, X_val, y_test, y_val = train_test_split(X_test, y_test, test_size=0.20, random_state=1)"
   ],
   "metadata": {
    "collapsed": false,
    "ExecuteTime": {
     "end_time": "2024-07-25T11:05:46.643233Z",
     "start_time": "2024-07-25T11:05:45.770092Z"
    }
   },
   "id": "460879f65f72f925",
   "execution_count": 4
  },
  {
   "cell_type": "code",
   "outputs": [
    {
     "name": "stdout",
     "output_type": "stream",
     "text": [
      "Shape of train:  (11265, 10)\n",
      "Shape of test:  (17494, 10)\n",
      "Shape of val:  (4374, 10)\n"
     ]
    }
   ],
   "source": [
    "print(\"Shape of train: \", y_train.shape)\n",
    "print(\"Shape of test: \", y_test.shape)\n",
    "print(\"Shape of val: \", y_val.shape)"
   ],
   "metadata": {
    "collapsed": false,
    "ExecuteTime": {
     "end_time": "2024-07-25T11:05:46.659280Z",
     "start_time": "2024-07-25T11:05:46.645399Z"
    }
   },
   "id": "3e39619f00d84ff5",
   "execution_count": 5
  },
  {
   "cell_type": "code",
   "outputs": [],
   "source": [
    "mlflow.set_tracking_uri(\"http://localhost:5000\")"
   ],
   "metadata": {
    "collapsed": false,
    "ExecuteTime": {
     "end_time": "2024-07-25T11:05:46.674728Z",
     "start_time": "2024-07-25T11:05:46.660609Z"
    }
   },
   "id": "92ce1ec76210a01",
   "execution_count": 6
  },
  {
   "cell_type": "code",
   "outputs": [
    {
     "data": {
      "text/plain": "<Experiment: artifact_location='mlflow-artifacts:/511671160559185878', creation_time=1721899131124, experiment_id='511671160559185878', last_update_time=1721899131124, lifecycle_stage='active', name='/GradientBoosting', tags={}>"
     },
     "execution_count": 7,
     "metadata": {},
     "output_type": "execute_result"
    }
   ],
   "source": [
    "mlflow.set_experiment(\"/GradientBoosting\")"
   ],
   "metadata": {
    "collapsed": false,
    "ExecuteTime": {
     "end_time": "2024-07-25T11:05:48.899977Z",
     "start_time": "2024-07-25T11:05:46.677018Z"
    }
   },
   "id": "eacb1d4470fef819",
   "execution_count": 7
  },
  {
   "cell_type": "code",
   "outputs": [],
   "source": [
    "target_idx = 0\n",
    "train_data = lgb.Dataset(X_train, label=y_train[:,target_idx])\n",
    "valid_data = lgb.Dataset(X_val, label=y_val[:,target_idx], reference=train_data)\n",
    "def objective(trial):\n",
    "    params = {\n",
    "        'objective': 'regression_l2',\n",
    "        'metric': 'rmse',\n",
    "        'boosting_type': 'gbdt',\n",
    "        'num_leaves': trial.suggest_int('num_leaves', 20, 1500),\n",
    "        'learning_rate': trial.suggest_float('learning_rate', 0.01, 0.3, log=True),\n",
    "        'feature_fraction': trial.suggest_float('feature_fraction', 0.6, 1.0, log=True),\n",
    "        'bagging_fraction': trial.suggest_float('bagging_fraction', 0.6, 1.0, log=True),\n",
    "        'bagging_freq': trial.suggest_int('bagging_freq', 1, 10),\n",
    "        'min_child_samples': trial.suggest_int('min_child_samples', 5, 100)\n",
    "    }\n",
    "    \n",
    "    with mlflow.start_run():\n",
    "        model = lgb.train(\n",
    "            params,\n",
    "            train_data,\n",
    "            num_boost_round=1000,\n",
    "            valid_sets=[valid_data],\n",
    "            callbacks=[lgb.early_stopping(stopping_rounds=50)],\n",
    "        )\n",
    "        \n",
    "        mlflow.lightgbm.log_model(model, \"model\")\n",
    "        mlflow.log_params(params)\n",
    "        \n",
    "        y_pred = model.predict(X_test, num_iteration=model.best_iteration)\n",
    "        \n",
    "        mse = mean_squared_error(y_test[:,target_idx], y_pred)\n",
    "        mae = mean_absolute_error(y_test[:,target_idx], y_pred)\n",
    "        mape = mean_absolute_percentage_error(y_test[:,target_idx], y_pred)\n",
    "        r2 = r2_score(y_test[:,target_idx], y_pred)\n",
    "        \n",
    "        # Логгирование метрик\n",
    "        mlflow.log_metric(\"mse\", mse)\n",
    "        mlflow.log_metric(\"mae\", mae)\n",
    "        mlflow.log_metric(\"r2\", r2)\n",
    "        mlflow.log_metric(\"mape\", mape)\n",
    "    \n",
    "        return mse"
   ],
   "metadata": {
    "collapsed": false,
    "ExecuteTime": {
     "end_time": "2024-07-25T11:05:48.915703Z",
     "start_time": "2024-07-25T11:05:48.902219Z"
    }
   },
   "id": "a937dd06cbe76e17",
   "execution_count": 8
  },
  {
   "cell_type": "code",
   "outputs": [
    {
     "name": "stderr",
     "output_type": "stream",
     "text": [
      "[I 2024-07-25 12:54:05,672] A new study created in memory with name: no-name-ac07d1a5-4988-4d49-b4c1-ad71a62d70b9\n",
      "C:\\Users\\vitya\\Work\\seysmo\\.venv\\lib\\site-packages\\lightgbm\\basic.py:720: UserWarning: Usage of np.ndarray subset (sliced data) is not recommended due to it will double the peak memory cost in LightGBM.\n",
      "  _log_warning(\n"
     ]
    },
    {
     "name": "stdout",
     "output_type": "stream",
     "text": [
      "[LightGBM] [Info] Auto-choosing col-wise multi-threading, the overhead of testing was 2.564521 seconds.\n",
      "You can set `force_col_wise=true` to remove the overhead.\n",
      "[LightGBM] [Info] Total Bins 2966656\n",
      "[LightGBM] [Info] Number of data points in the train set: 11265, number of used features: 11748\n",
      "[LightGBM] [Info] Start training from score 224.158117\n",
      "Training until validation scores don't improve for 50 rounds\n",
      "Early stopping, best iteration is:\n",
      "[33]\tvalid_0's rmse: 20.2481\n"
     ]
    },
    {
     "name": "stderr",
     "output_type": "stream",
     "text": [
      "[I 2024-07-25 12:59:18,399] Trial 0 finished with value: 430.1767741307378 and parameters: {'num_leaves': 241, 'learning_rate': 0.13835915756533473, 'feature_fraction': 0.8742576853466161, 'bagging_fraction': 0.8777820413914257, 'bagging_freq': 5, 'min_child_samples': 11}. Best is trial 0 with value: 430.1767741307378.\n",
      "C:\\Users\\vitya\\Work\\seysmo\\.venv\\lib\\site-packages\\lightgbm\\basic.py:720: UserWarning: Usage of np.ndarray subset (sliced data) is not recommended due to it will double the peak memory cost in LightGBM.\n",
      "  _log_warning(\n"
     ]
    },
    {
     "name": "stdout",
     "output_type": "stream",
     "text": [
      "[LightGBM] [Info] Auto-choosing col-wise multi-threading, the overhead of testing was 2.057269 seconds.\n",
      "You can set `force_col_wise=true` to remove the overhead.\n",
      "[LightGBM] [Info] Total Bins 2966656\n"
     ]
    }
   ],
   "source": [
    "study = optuna.create_study(direction='minimize')\n",
    "study.optimize(objective, n_trials=50)"
   ],
   "metadata": {
    "collapsed": false,
    "ExecuteTime": {
     "start_time": "2024-07-25T09:54:05.670498Z"
    }
   },
   "id": "44fd333e95165faa",
   "execution_count": null
  },
  {
   "cell_type": "code",
   "outputs": [],
   "source": [],
   "metadata": {
    "collapsed": false
   },
   "id": "7272a74f8f1658f7"
  }
 ],
 "metadata": {
  "kernelspec": {
   "display_name": "Python 3",
   "language": "python",
   "name": "python3"
  },
  "language_info": {
   "codemirror_mode": {
    "name": "ipython",
    "version": 2
   },
   "file_extension": ".py",
   "mimetype": "text/x-python",
   "name": "python",
   "nbconvert_exporter": "python",
   "pygments_lexer": "ipython2",
   "version": "2.7.6"
  }
 },
 "nbformat": 4,
 "nbformat_minor": 5
}
