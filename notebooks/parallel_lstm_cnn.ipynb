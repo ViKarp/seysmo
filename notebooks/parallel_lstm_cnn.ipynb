{
 "cells": [
  {
   "cell_type": "code",
   "execution_count": 1,
   "id": "initial_id",
   "metadata": {
    "collapsed": true,
    "ExecuteTime": {
     "end_time": "2024-07-27T20:56:34.642298Z",
     "start_time": "2024-07-27T20:56:27.014142Z"
    }
   },
   "outputs": [],
   "source": [
    "import pandas as pd\n",
    "import numpy as np\n",
    "import matplotlib.pyplot as plt\n",
    "from seysmo.models.model_class import CNN, CNNLSTMNetwork, CNNLSTMNetwork2\n",
    "from seysmo.models.train_model import train, evaluate\n",
    "from seysmo.models.utils import save_model, load_model, count_parameters, EarlyStopper, SignalSpeedDataset, give_data\n",
    "from seysmo.visualization.plotting import plot_map\n",
    "from seysmo.features.mapping import do_array_for_mapping, compute_y_pred\n",
    "import torch\n",
    "from torch import nn\n",
    "from torch.utils.data import DataLoader\n",
    "from torchinfo import summary\n",
    "from torchmetrics import MeanAbsolutePercentageError\n",
    "\n",
    "import mlflow\n",
    "\n",
    "mlflow.set_tracking_uri(\"http://localhost:5000\")"
   ]
  },
  {
   "cell_type": "code",
   "outputs": [],
   "source": [
    "X_train, y_train, coord_train, X_val, y_val, coord_val, X_test, y_test, coord_test = give_data(\n",
    "    '../data/processed/coord_dict.pkl')"
   ],
   "metadata": {
    "collapsed": false,
    "ExecuteTime": {
     "end_time": "2024-07-27T20:56:54.836869Z",
     "start_time": "2024-07-27T20:56:49.156699Z"
    }
   },
   "id": "942e04faf17a0790",
   "execution_count": 2
  },
  {
   "cell_type": "code",
   "outputs": [
    {
     "data": {
      "text/plain": "(11045, 33, 438)"
     },
     "execution_count": 3,
     "metadata": {},
     "output_type": "execute_result"
    }
   ],
   "source": [
    "X_train.shape"
   ],
   "metadata": {
    "collapsed": false,
    "ExecuteTime": {
     "end_time": "2024-07-27T20:56:59.118437Z",
     "start_time": "2024-07-27T20:56:59.099552Z"
    }
   },
   "id": "a5e373b77be56fa1",
   "execution_count": 3
  },
  {
   "cell_type": "code",
   "outputs": [
    {
     "data": {
      "text/plain": "(11045, 438, 33)"
     },
     "execution_count": 19,
     "metadata": {},
     "output_type": "execute_result"
    }
   ],
   "source": [
    "X_train = np.transpose(X_train, (0,2,1))\n",
    "X_train.shape"
   ],
   "metadata": {
    "collapsed": false,
    "ExecuteTime": {
     "end_time": "2024-07-27T21:19:18.085515Z",
     "start_time": "2024-07-27T21:19:18.060408Z"
    }
   },
   "id": "a983e79ec244483a",
   "execution_count": 19
  },
  {
   "cell_type": "code",
   "outputs": [],
   "source": [
    "X_val = np.transpose(X_val, (0,2,1))\n",
    "X_test = np.transpose(X_test, (0,2,1))"
   ],
   "metadata": {
    "collapsed": false,
    "ExecuteTime": {
     "end_time": "2024-07-27T21:20:17.555610Z",
     "start_time": "2024-07-27T21:20:17.542149Z"
    }
   },
   "id": "f4c317b54b37e4d",
   "execution_count": 20
  },
  {
   "cell_type": "code",
   "outputs": [],
   "source": [
    "from torch.utils.data import Dataset\n",
    "\n",
    "\n",
    "class SignalSpeedDataset(Dataset):\n",
    "    def __init__(self, X, y):\n",
    "        # Добавляем размер канала\n",
    "        self.X = torch.from_numpy(X).float()\n",
    "        self.y = torch.from_numpy(y).float()\n",
    "\n",
    "    def __len__(self):\n",
    "        return len(self.X)\n",
    "\n",
    "    def __getitem__(self, idx):\n",
    "        return self.X[idx], self.y[idx]"
   ],
   "metadata": {
    "collapsed": false,
    "ExecuteTime": {
     "end_time": "2024-07-27T21:20:51.866579Z",
     "start_time": "2024-07-27T21:20:51.846429Z"
    }
   },
   "id": "d99b12f2dd73c641",
   "execution_count": 21
  },
  {
   "cell_type": "code",
   "outputs": [],
   "source": [
    "train_dataset = SignalSpeedDataset(X_train, y_train)\n",
    "train_dataloader = DataLoader(train_dataset, batch_size=32, shuffle=True)\n",
    "val_dataset = SignalSpeedDataset(X_val, y_val)\n",
    "val_dataloader = DataLoader(val_dataset, batch_size=32, shuffle=True)\n",
    "test_dataset = SignalSpeedDataset(X_test, y_test)\n",
    "test_dataloader = DataLoader(test_dataset, batch_size=32, shuffle=False)"
   ],
   "metadata": {
    "collapsed": false,
    "ExecuteTime": {
     "end_time": "2024-07-27T21:20:56.407765Z",
     "start_time": "2024-07-27T21:20:56.392042Z"
    }
   },
   "id": "3049cf30378440a8",
   "execution_count": 22
  },
  {
   "cell_type": "code",
   "outputs": [
    {
     "data": {
      "text/plain": "torch.Size([11045, 438, 33])"
     },
     "execution_count": 23,
     "metadata": {},
     "output_type": "execute_result"
    }
   ],
   "source": [
    "train_dataset.X.shape"
   ],
   "metadata": {
    "collapsed": false,
    "ExecuteTime": {
     "end_time": "2024-07-27T21:20:58.853943Z",
     "start_time": "2024-07-27T21:20:58.829313Z"
    }
   },
   "id": "dde297d666f79095",
   "execution_count": 23
  },
  {
   "cell_type": "code",
   "outputs": [
    {
     "name": "stdout",
     "output_type": "stream",
     "text": [
      "torch.Size([32, 438, 33])\n"
     ]
    }
   ],
   "source": [
    "for batch, (X, y) in enumerate(train_dataloader):\n",
    "    print(X.shape)\n",
    "    break"
   ],
   "metadata": {
    "collapsed": false,
    "ExecuteTime": {
     "end_time": "2024-07-27T21:21:11.596717Z",
     "start_time": "2024-07-27T21:21:11.570573Z"
    }
   },
   "id": "89937a1ea80e649a",
   "execution_count": 24
  },
  {
   "cell_type": "code",
   "outputs": [],
   "source": [
    "class LSTMModel(nn.Module):\n",
    "    def __init__(self, input_size, hidden_size, num_layers, output_size):\n",
    "        super(LSTMModel, self).__init__()\n",
    "        self.hidden_size = hidden_size\n",
    "        self.num_layers = num_layers\n",
    "        self.lstm = nn.LSTM(input_size, hidden_size, num_layers, batch_first=True)\n",
    "        self.fc = nn.Linear(hidden_size, output_size)\n",
    "\n",
    "    def forward(self, x):\n",
    "        h0 = torch.zeros(self.num_layers, x.size(0), self.hidden_size).to(x.device)\n",
    "        c0 = torch.zeros(self.num_layers, x.size(0), self.hidden_size).to(x.device)\n",
    "        out, _ = self.lstm(x, (h0, c0))\n",
    "        out = self.fc(out[:, -1, :])\n",
    "        return out\n",
    "\n",
    "# Параметры модели\n",
    "input_size = 33\n",
    "hidden_size = 128\n",
    "num_layers = 50\n",
    "output_size = 10\n",
    "\n",
    "# Создание модели\n",
    "model = LSTMModel(input_size, hidden_size, num_layers, output_size).to('cuda')\n",
    "\n",
    "# Определение функции потерь и оптимизатора\n",
    "loss_fn = nn.MSELoss()\n",
    "metric_fn = MeanAbsolutePercentageError().to('cuda')\n",
    "optimizer = torch.optim.Adam(model.parameters(), lr=0.001)"
   ],
   "metadata": {
    "collapsed": false,
    "ExecuteTime": {
     "end_time": "2024-07-27T21:27:32.919122Z",
     "start_time": "2024-07-27T21:27:32.752993Z"
    }
   },
   "id": "9b86cebf041f11de",
   "execution_count": 30
  },
  {
   "cell_type": "code",
   "outputs": [
    {
     "name": "stdout",
     "output_type": "stream",
     "text": [
      "Epoch 1\n",
      "-------------------------------\n",
      "loss: 128584.398438 MAPE: 0.999889 [0 / 346]\n",
      "loss: 118726.429688 MAPE: 0.950824 [100 / 346]\n",
      "loss: 101167.101562 MAPE: 0.904233 [200 / 346]\n",
      "loss: 102556.828125 MAPE: 0.866204 [300 / 346]\n",
      "Eval metrics: \n",
      "MAPE: 0.85, Avg loss: 97603.413836 \n",
      "\n",
      "Epoch 2\n",
      "-------------------------------\n",
      "loss: 89223.570312 MAPE: 0.840632 [0 / 346]\n",
      "loss: 89540.671875 MAPE: 0.803572 [100 / 346]\n",
      "loss: 84388.156250 MAPE: 0.770642 [200 / 346]\n",
      "loss: 72825.828125 MAPE: 0.726237 [300 / 346]\n",
      "Eval metrics: \n",
      "MAPE: 0.71, Avg loss: 75286.518569 \n",
      "\n",
      "Epoch 3\n",
      "-------------------------------\n",
      "loss: 71713.468750 MAPE: 0.709065 [0 / 346]\n",
      "loss: 70770.914062 MAPE: 0.679115 [100 / 346]\n",
      "loss: 63913.976562 MAPE: 0.637495 [200 / 346]\n",
      "loss: 58504.355469 MAPE: 0.607172 [300 / 346]\n",
      "Eval metrics: \n",
      "MAPE: 0.59, Avg loss: 57510.007360 \n",
      "\n",
      "Epoch 4\n",
      "-------------------------------\n",
      "loss: 56954.039062 MAPE: 0.593504 [0 / 346]\n",
      "loss: 51283.839844 MAPE: 0.551282 [100 / 346]\n",
      "loss: 47130.476562 MAPE: 0.515089 [200 / 346]\n",
      "loss: 46215.902344 MAPE: 0.497762 [300 / 346]\n",
      "Eval metrics: \n",
      "MAPE: 0.48, Avg loss: 43517.860451 \n",
      "\n",
      "Epoch 5\n",
      "-------------------------------\n",
      "loss: 43001.500000 MAPE: 0.481533 [0 / 346]\n",
      "loss: 39784.117188 MAPE: 0.456144 [100 / 346]\n",
      "loss: 34763.246094 MAPE: 0.425251 [200 / 346]\n",
      "loss: 35589.667969 MAPE: 0.409752 [300 / 346]\n",
      "Eval metrics: \n",
      "MAPE: 0.39, Avg loss: 32606.899173 \n",
      "\n",
      "Epoch 6\n",
      "-------------------------------\n",
      "loss: 29610.125000 MAPE: 0.371032 [0 / 346]\n",
      "loss: 30730.974609 MAPE: 0.367911 [100 / 346]\n",
      "loss: 27598.250000 MAPE: 0.345583 [200 / 346]\n",
      "loss: 26120.238281 MAPE: 0.328992 [300 / 346]\n",
      "Eval metrics: \n",
      "MAPE: 0.31, Avg loss: 24211.067340 \n",
      "\n",
      "Epoch 7\n",
      "-------------------------------\n",
      "loss: 23801.597656 MAPE: 0.310776 [0 / 346]\n",
      "loss: 20205.009766 MAPE: 0.285134 [100 / 346]\n",
      "loss: 19128.912109 MAPE: 0.275365 [200 / 346]\n",
      "loss: 20711.896484 MAPE: 0.281468 [300 / 346]\n",
      "Eval metrics: \n",
      "MAPE: 0.26, Avg loss: 17841.155698 \n",
      "\n",
      "Epoch 8\n",
      "-------------------------------\n",
      "loss: 15264.163086 MAPE: 0.244910 [0 / 346]\n",
      "loss: 17446.505859 MAPE: 0.258127 [100 / 346]\n",
      "loss: 14638.706055 MAPE: 0.226716 [200 / 346]\n",
      "loss: 12817.956055 MAPE: 0.211095 [300 / 346]\n",
      "Eval metrics: \n",
      "MAPE: 0.22, Avg loss: 13115.621334 \n",
      "\n",
      "Epoch 9\n",
      "-------------------------------\n",
      "loss: 14060.689453 MAPE: 0.233754 [0 / 346]\n",
      "loss: 8312.671875 MAPE: 0.178297 [100 / 346]\n",
      "loss: 9056.159180 MAPE: 0.193633 [200 / 346]\n",
      "loss: 9746.494141 MAPE: 0.193134 [300 / 346]\n",
      "Eval metrics: \n",
      "MAPE: 0.19, Avg loss: 9683.589044 \n",
      "\n",
      "Epoch 10\n",
      "-------------------------------\n",
      "loss: 9798.819336 MAPE: 0.192606 [0 / 346]\n",
      "loss: 11452.278320 MAPE: 0.201010 [100 / 346]\n",
      "loss: 8168.271973 MAPE: 0.178379 [200 / 346]\n",
      "loss: 7626.964355 MAPE: 0.168086 [300 / 346]\n",
      "Eval metrics: \n",
      "MAPE: 0.17, Avg loss: 7287.511733 \n",
      "\n",
      "Epoch 11\n",
      "-------------------------------\n",
      "loss: 6840.884277 MAPE: 0.170209 [0 / 346]\n",
      "loss: 6010.825684 MAPE: 0.156845 [100 / 346]\n",
      "loss: 6204.872070 MAPE: 0.163112 [200 / 346]\n",
      "loss: 5496.499512 MAPE: 0.163302 [300 / 346]\n",
      "Eval metrics: \n",
      "MAPE: 0.16, Avg loss: 5681.420842 \n",
      "\n",
      "Epoch 12\n",
      "-------------------------------\n",
      "loss: 6395.618164 MAPE: 0.157418 [0 / 346]\n",
      "loss: 4532.559570 MAPE: 0.163485 [100 / 346]\n",
      "loss: 5227.087891 MAPE: 0.167766 [200 / 346]\n",
      "loss: 3769.275146 MAPE: 0.137169 [300 / 346]\n",
      "Eval metrics: \n",
      "MAPE: 0.15, Avg loss: 4677.204137 \n",
      "\n",
      "Epoch 13\n",
      "-------------------------------\n",
      "loss: 5002.043457 MAPE: 0.142786 [0 / 346]\n",
      "loss: 4197.310059 MAPE: 0.150201 [100 / 346]\n",
      "loss: 4961.954102 MAPE: 0.141653 [200 / 346]\n",
      "loss: 4744.888184 MAPE: 0.151444 [300 / 346]\n",
      "Eval metrics: \n",
      "MAPE: 0.14, Avg loss: 4096.666865 \n",
      "\n",
      "Epoch 14\n",
      "-------------------------------\n",
      "loss: 3285.020264 MAPE: 0.133945 [0 / 346]\n",
      "loss: 3485.129639 MAPE: 0.132096 [100 / 346]\n",
      "loss: 4330.516113 MAPE: 0.145111 [200 / 346]\n",
      "loss: 4327.229004 MAPE: 0.143972 [300 / 346]\n",
      "Eval metrics: \n",
      "MAPE: 0.14, Avg loss: 3791.239771 \n",
      "\n",
      "Epoch 15\n",
      "-------------------------------\n",
      "loss: 4077.049561 MAPE: 0.152033 [0 / 346]\n",
      "loss: 3900.305420 MAPE: 0.149434 [100 / 346]\n",
      "loss: 2951.815918 MAPE: 0.121328 [200 / 346]\n",
      "loss: 3362.122314 MAPE: 0.140104 [300 / 346]\n",
      "Eval metrics: \n",
      "MAPE: 0.14, Avg loss: 3649.249161 \n",
      "\n",
      "Epoch 16\n",
      "-------------------------------\n",
      "loss: 3507.279053 MAPE: 0.142715 [0 / 346]\n",
      "loss: 3950.689209 MAPE: 0.143551 [100 / 346]\n",
      "loss: 3927.244629 MAPE: 0.137406 [200 / 346]\n",
      "loss: 2736.654785 MAPE: 0.126579 [300 / 346]\n"
     ]
    }
   ],
   "source": [
    "for t in range(100):\n",
    "        print(f\"Epoch {t + 1}\\n-------------------------------\")\n",
    "        train(train_dataloader, model, loss_fn, metric_fn, optimizer, epoch=t, device='cuda',\n",
    "              output_size=output_size)\n",
    "        validation_loss, validation_mape = evaluate(val_dataloader, model, loss_fn, metric_fn, epoch=t, device='cuda',\n",
    "                                                    output_size=output_size)"
   ],
   "metadata": {
    "collapsed": false,
    "is_executing": true,
    "ExecuteTime": {
     "start_time": "2024-07-27T21:27:33.384722Z"
    }
   },
   "id": "a5345b3baf659642",
   "execution_count": null
  },
  {
   "cell_type": "code",
   "outputs": [],
   "source": [],
   "metadata": {
    "collapsed": false
   },
   "id": "b73528a49fea10ea"
  }
 ],
 "metadata": {
  "kernelspec": {
   "display_name": "Python 3",
   "language": "python",
   "name": "python3"
  },
  "language_info": {
   "codemirror_mode": {
    "name": "ipython",
    "version": 2
   },
   "file_extension": ".py",
   "mimetype": "text/x-python",
   "name": "python",
   "nbconvert_exporter": "python",
   "pygments_lexer": "ipython2",
   "version": "2.7.6"
  }
 },
 "nbformat": 4,
 "nbformat_minor": 5
}
