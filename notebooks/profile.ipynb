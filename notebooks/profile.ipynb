{
 "cells": [
  {
   "cell_type": "code",
   "execution_count": 1,
   "id": "initial_id",
   "metadata": {
    "collapsed": true,
    "ExecuteTime": {
     "end_time": "2024-07-24T16:50:52.061147Z",
     "start_time": "2024-07-24T16:50:49.609591Z"
    }
   },
   "outputs": [],
   "source": [
    "from obspy import read\n",
    "from obspy.core.util import get_example_file\n",
    "import numpy as np\n",
    "import pandas as pd\n",
    "import segyio\n",
    "import matplotlib.pyplot as plt"
   ]
  },
  {
   "cell_type": "code",
   "outputs": [
    {
     "name": "stdout",
     "output_type": "stream",
     "text": [
      "1108074\n"
     ]
    }
   ],
   "source": [
    "filename = \"../data/raw/MAX_SGY/For_Masw_Resample.sgy\"\n",
    "with segyio.open(filename, \"r\", endian='big', ignore_geometry=True) as segyfile:\n",
    "    print(len(segyfile.trace))\n",
    "    # for i in range(0,33578-33,33):\n",
    "    #     if ((segyfile.header[i][segyio.TraceField.GroupX]/100 + segyfile.header[i+32][segyio.TraceField.GroupX]/100) / 2 > 468980.19 - 1) and ((segyfile.header[i][segyio.TraceField.GroupX]/100 + segyfile.header[i+32][segyio.TraceField.GroupX]/100) / 2 < 468980.19 + 1):\n",
    "    #         print(segyfile.header[i+32][segyio.TraceField.FieldRecord])\n",
    "    #         print(((segyfile.header[i][segyio.TraceField.GroupX]/100 + segyfile.header[i+32][segyio.TraceField.GroupX]/100) / 2 ))\n",
    "    #         print(((segyfile.header[i][segyio.TraceField.GroupY]/100 + segyfile.header[i+32][segyio.TraceField.GroupY]/100) / 2 ))\n",
    "#FieldRecord - FFID 1 сортировка\n",
    "#TraceNumber - CHAN 2 сортировка\n",
    "#SourceX, SourceY - координаты источника * SourceGroupScalar\n",
    "#GroupX, SourceY - координаты приемника * ElevationScalar\n",
    "#10000"
   ],
   "metadata": {
    "collapsed": false,
    "ExecuteTime": {
     "end_time": "2024-07-24T18:45:40.253812Z",
     "start_time": "2024-07-24T18:45:40.233334Z"
    }
   },
   "id": "aab43bb56cc81044",
   "execution_count": 56
  },
  {
   "cell_type": "code",
   "outputs": [
    {
     "name": "stdout",
     "output_type": "stream",
     "text": [
      "{TRACE_SEQUENCE_LINE: 30655, TRACE_SEQUENCE_FILE: 0, FieldRecord: 10102414, TraceNumber: 865, EnergySourcePoint: 0, CDP: 51050964, CDP_TRACE: 0, TraceIdentificationCode: 1, NSummedTraces: 0, NStackedTraces: 1, DataUse: 0, offset: 102, ReceiverGroupElevation: 700, SourceSurfaceElevation: 0, SourceDepth: 600, ReceiverDatumElevation: 0, SourceDatumElevation: 0, SourceWaterDepth: 1979, GroupWaterDepth: 0, ElevationScalar: -100, SourceGroupScalar: -100, SourceX: 46935710, SourceY: 769618660, GroupX: 46928220, GroupY: 769611690, CoordinateUnits: 1, WeatheringVelocity: 0, SubWeatheringVelocity: 0, SourceUpholeTime: 0, GroupUpholeTime: 0, SourceStaticCorrection: 4, GroupStaticCorrection: 4, TotalStaticApplied: 0, LagTimeA: 0, LagTimeB: 0, DelayRecordingTime: 0, MuteTimeStart: 0, MuteTimeEND: 0, TRACE_SAMPLE_COUNT: 438, TRACE_SAMPLE_INTERVAL: 16000, GainType: 3, InstrumentGainConstant: 0, InstrumentInitialGain: 0, Correlated: 0, SweepFrequencyStart: 0, SweepFrequencyEnd: 0, SweepLength: 0, SweepType: 0, SweepTraceTaperLengthStart: 0, SweepTraceTaperLengthEnd: 0, TaperType: 0, AliasFilterFrequency: 0, AliasFilterSlope: 0, NotchFilterFrequency: 0, NotchFilterSlope: 0, LowCutFrequency: 0, HighCutFrequency: 0, LowCutSlope: 0, HighCutSlope: 0, YearDataRecorded: 2020, DayOfYear: 244, HourOfDay: 2, MinuteOfHour: 22, SecondOfMinute: 30, TimeBaseCode: 3, TraceWeightingFactor: 0, GeophoneGroupNumberRoll1: 0, GeophoneGroupNumberFirstTraceOrigField: 0, GeophoneGroupNumberLastTraceOrigField: 0, GapSize: 0, OverTravel: 0, CDP_X: 3, CDP_Y: 2414, INLINE_3D: 0, CROSSLINE_3D: 0, ShotPoint: 0, ShotPointScalar: 0, TraceValueMeasurementUnit: 0, TransductionConstantMantissa: 0, TransductionConstantPower: 0, TransductionUnit: 0, TraceIdentifier: 0, ScalarTraceHeader: 0, SourceType: 0, SourceEnergyDirectionMantissa: 0, SourceEnergyDirectionExponent: 0, SourceMeasurementMantissa: 0, SourceMeasurementExponent: 0, SourceMeasurementUnit: 0}\n",
      "{TRACE_SEQUENCE_LINE: 55169, TRACE_SEQUENCE_FILE: 0, FieldRecord: 10102428, TraceNumber: 865, EnergySourcePoint: 0, CDP: 51470963, CDP_TRACE: 0, TraceIdentificationCode: 1, NSummedTraces: 0, NStackedTraces: 1, DataUse: 0, offset: 102, ReceiverGroupElevation: 700, SourceSurfaceElevation: 0, SourceDepth: 600, ReceiverDatumElevation: 0, SourceDatumElevation: 0, SourceWaterDepth: 2000, GroupWaterDepth: 0, ElevationScalar: -100, SourceGroupScalar: -100, SourceX: 46949100, SourceY: 769641320, GroupX: 46941670, GroupY: 769634300, CoordinateUnits: 1, WeatheringVelocity: 0, SubWeatheringVelocity: 0, SourceUpholeTime: 0, GroupUpholeTime: 0, SourceStaticCorrection: 4, GroupStaticCorrection: 4, TotalStaticApplied: 0, LagTimeA: 0, LagTimeB: 0, DelayRecordingTime: 0, MuteTimeStart: 0, MuteTimeEND: 0, TRACE_SAMPLE_COUNT: 438, TRACE_SAMPLE_INTERVAL: 16000, GainType: 3, InstrumentGainConstant: 0, InstrumentInitialGain: 0, Correlated: 0, SweepFrequencyStart: 0, SweepFrequencyEnd: 0, SweepLength: 0, SweepType: 0, SweepTraceTaperLengthStart: 0, SweepTraceTaperLengthEnd: 0, TaperType: 0, AliasFilterFrequency: 0, AliasFilterSlope: 0, NotchFilterFrequency: 0, NotchFilterSlope: 0, LowCutFrequency: 0, HighCutFrequency: 0, LowCutSlope: 0, HighCutSlope: 0, YearDataRecorded: 2020, DayOfYear: 244, HourOfDay: 2, MinuteOfHour: 24, SecondOfMinute: 11, TimeBaseCode: 3, TraceWeightingFactor: 0, GeophoneGroupNumberRoll1: 0, GeophoneGroupNumberFirstTraceOrigField: 0, GeophoneGroupNumberLastTraceOrigField: 0, GapSize: 0, OverTravel: 0, CDP_X: 3, CDP_Y: 2428, INLINE_3D: 0, CROSSLINE_3D: 0, ShotPoint: 0, ShotPointScalar: 0, TraceValueMeasurementUnit: 0, TransductionConstantMantissa: 0, TransductionConstantPower: 0, TransductionUnit: 0, TraceIdentifier: 0, ScalarTraceHeader: 0, SourceType: 0, SourceEnergyDirectionMantissa: 0, SourceEnergyDirectionExponent: 0, SourceMeasurementMantissa: 0, SourceMeasurementExponent: 0, SourceMeasurementUnit: 0}\n"
     ]
    }
   ],
   "source": [
    "filename = \"../data/raw/MAX_SGY/For_Masw_Resample.sgy\"\n",
    "with segyio.open(filename, \"r\", endian='big', ignore_geometry=True) as segyfile:\n",
    "    print(segyfile.header[0])\n",
    "    print(segyfile.header[33])\n",
    "#FieldRecord - FFID 1 сортировка\n",
    "#TraceNumber - CHAN 2 сортировка\n",
    "#SourceX, SourceY - координаты источника * SourceGroupScalar\n",
    "#GroupX, SourceY - координаты приемника * ElevationScalar"
   ],
   "metadata": {
    "collapsed": false,
    "ExecuteTime": {
     "end_time": "2024-07-24T13:04:22.214474Z",
     "start_time": "2024-07-24T13:04:22.197844Z"
    }
   },
   "id": "7aa6d8ec9da1eef3",
   "execution_count": 30
  },
  {
   "cell_type": "code",
   "outputs": [
    {
     "name": "stdout",
     "output_type": "stream",
     "text": [
      "{TRACE_SEQUENCE_LINE: 1, TRACE_SEQUENCE_FILE: 0, FieldRecord: 1, TraceNumber: 1, EnergySourcePoint: 0, CDP: 1, CDP_TRACE: 1, TraceIdentificationCode: -1, NSummedTraces: 0, NStackedTraces: 0, DataUse: 0, offset: 0, ReceiverGroupElevation: 0, SourceSurfaceElevation: 0, SourceDepth: 0, ReceiverDatumElevation: 0, SourceDatumElevation: 0, SourceWaterDepth: 0, GroupWaterDepth: 0, ElevationScalar: -100, SourceGroupScalar: -100, SourceX: 46916559, SourceY: 0, GroupX: 46916559, GroupY: 0, CoordinateUnits: 1, WeatheringVelocity: 0, SubWeatheringVelocity: 0, SourceUpholeTime: 0, GroupUpholeTime: 0, SourceStaticCorrection: 0, GroupStaticCorrection: 0, TotalStaticApplied: 0, LagTimeA: 0, LagTimeB: 0, DelayRecordingTime: 0, MuteTimeStart: 0, MuteTimeEND: 0, TRACE_SAMPLE_COUNT: 10, TRACE_SAMPLE_INTERVAL: 10000, GainType: 0, InstrumentGainConstant: 0, InstrumentInitialGain: 0, Correlated: 0, SweepFrequencyStart: 0, SweepFrequencyEnd: 0, SweepLength: 0, SweepType: 0, SweepTraceTaperLengthStart: 0, SweepTraceTaperLengthEnd: 0, TaperType: 0, AliasFilterFrequency: 0, AliasFilterSlope: 0, NotchFilterFrequency: 0, NotchFilterSlope: 0, LowCutFrequency: 0, HighCutFrequency: 0, LowCutSlope: 0, HighCutSlope: 0, YearDataRecorded: 0, DayOfYear: 0, HourOfDay: 0, MinuteOfHour: 0, SecondOfMinute: 0, TimeBaseCode: 3, TraceWeightingFactor: 0, GeophoneGroupNumberRoll1: 0, GeophoneGroupNumberFirstTraceOrigField: 0, GeophoneGroupNumberLastTraceOrigField: 0, GapSize: 0, OverTravel: 0, CDP_X: 46916559, CDP_Y: 769595405, INLINE_3D: 0, CROSSLINE_3D: 0, ShotPoint: 0, ShotPointScalar: 0, TraceValueMeasurementUnit: 0, TransductionConstantMantissa: 0, TransductionConstantPower: 0, TransductionUnit: 0, TraceIdentifier: 0, ScalarTraceHeader: 0, SourceType: 0, SourceEnergyDirectionMantissa: 0, SourceEnergyDirectionExponent: 0, SourceMeasurementMantissa: 0, SourceMeasurementExponent: 0, SourceMeasurementUnit: 0}\n",
      "----------\n",
      "[188.789   181.735   217.525   299.29297 366.25586 437.51587 466.21582\n",
      " 444.06787 380.1709  309.27197]\n"
     ]
    }
   ],
   "source": [
    "filename = \"../data/raw/2023_MSU_MASW/02.Data/03.Result/1_UR203D1004I1211_fund.sgy\"\n",
    "with segyio.open(filename, \"r\", endian='big', ignore_geometry=True) as segyfile:\n",
    "    # Читаем заголовки трасс\n",
    "    print(segyfile.header[0])\n",
    "    print('----------')\n",
    "    print(segyfile.trace[0])\n",
    "#FieldRecord - FFID 1 сортировка\n",
    "#TraceNumber - CHAN 2 сортировка\n",
    "#SourceX, SourceY - координаты источника * SourceGroupScalar\n",
    "#GroupX, SourceY - координаты приемника * ElevationScalar"
   ],
   "metadata": {
    "collapsed": false,
    "ExecuteTime": {
     "end_time": "2024-07-24T19:24:15.327297Z",
     "start_time": "2024-07-24T19:24:15.312096Z"
    }
   },
   "id": "df984f54bdd39f39",
   "execution_count": 83
  },
  {
   "cell_type": "code",
   "outputs": [],
   "source": [
    "def coord_func(x):\n",
    "    \"\"\"\n",
    "    Function to calculate the coordinate of a central point\n",
    "    :param x: dataframe\n",
    "    :return: coordinate of the central point (dataframe)\n",
    "    \"\"\"\n",
    "    return pd.DataFrame(\n",
    "        [[(np.min(x['REC_X']) + np.max(x['REC_X'])) / 2, (np.min(x['REC_Y']) + np.max(x['REC_Y'])) / 2]],\n",
    "        columns=[\"Receiver Midpoint_X\", \"Receiver Midpoint_Y\"])\n",
    "def segy2df(filename):\n",
    "    \"\"\"\n",
    "    Function to read a segy and return df with coordinates of central points\n",
    "    :param filename: path to segy file\n",
    "    :return: dataframe with coordinates of central points\n",
    "    \"\"\"\n",
    "    base = {'FFID': [], 'CHAN': [], \"REC_X\": [], \"REC_Y\": []}\n",
    "    try:\n",
    "        with segyio.open(filename, \"r\", ignore_geometry=True) as segyfile:\n",
    "            headers = segyfile.header\n",
    "            for header in headers:\n",
    "                base['FFID'].append(header[segyio.TraceField.FieldRecord])\n",
    "                base['CHAN'].append(header[segyio.TraceField.TraceNumber])\n",
    "                base['REC_X'].append(header[segyio.TraceField.GroupX])\n",
    "                base['REC_Y'].append(header[segyio.TraceField.GroupY])\n",
    "    except:\n",
    "        with segyio.open(filename, \"r\", endian='little') as segyfile:\n",
    "            headers = segyfile.header\n",
    "            for header in headers:\n",
    "                base['FFID'].append(header[segyio.TraceField.FieldRecord])\n",
    "                base['CHAN'].append(header[segyio.TraceField.TraceNumber])\n",
    "                base['REC_X'].append(header[segyio.TraceField.GroupX])\n",
    "                base['REC_Y'].append(header[segyio.TraceField.GroupY])\n",
    "    df = pd.DataFrame(base)\n",
    "    return df.groupby('FFID').apply(coord_func)"
   ],
   "metadata": {
    "collapsed": false,
    "ExecuteTime": {
     "end_time": "2024-07-24T19:05:28.192090Z",
     "start_time": "2024-07-24T19:05:28.172545Z"
    }
   },
   "id": "c954634757ea1124",
   "execution_count": 58
  },
  {
   "cell_type": "code",
   "outputs": [
    {
     "name": "stderr",
     "output_type": "stream",
     "text": [
      "C:\\Users\\vitya\\AppData\\Local\\Temp\\ipykernel_9912\\849246695.py:34: DeprecationWarning: DataFrameGroupBy.apply operated on the grouping columns. This behavior is deprecated, and in a future version of pandas the grouping columns will be excluded from the operation. Either pass `include_groups=False` to exclude the groupings or explicitly select the grouping columns after groupby to silence this warning.\n",
      "  return df.groupby('FFID').apply(coord_func)\n"
     ]
    }
   ],
   "source": [
    "df = segy2df('../data/raw/SGY_10/Profile.sgy')"
   ],
   "metadata": {
    "collapsed": false,
    "ExecuteTime": {
     "end_time": "2024-07-24T19:42:44.347085Z",
     "start_time": "2024-07-24T19:42:44.226145Z"
    }
   },
   "id": "827df58bf90b888",
   "execution_count": 121
  },
  {
   "cell_type": "code",
   "outputs": [
    {
     "data": {
      "text/plain": "        Receiver Midpoint_X  Receiver Midpoint_Y\nFFID                                            \n1177 0            4889226.5           76563934.0\n1191 0            4890626.0           76566155.0\n1205 0            4892036.5           76568368.5\n1219 0            4893477.5           76570569.5\n1233 0            4894884.5           76572785.5\n1247 0            4896271.5           76574998.5\n1261 0            4897741.0           76577203.5\n1275 0            4899200.5           76579387.0\n1289 0            4900645.0           76581587.5\n1303 0            4902078.5           76583726.5\n1317 0            4903477.5           76585943.0\n1331 0            4904858.5           76588175.0\n1345 0            4906251.0           76590393.5\n1359 0            4907651.5           76592619.0\n1373 0            4909066.5           76594827.5",
      "text/html": "<div>\n<style scoped>\n    .dataframe tbody tr th:only-of-type {\n        vertical-align: middle;\n    }\n\n    .dataframe tbody tr th {\n        vertical-align: top;\n    }\n\n    .dataframe thead th {\n        text-align: right;\n    }\n</style>\n<table border=\"1\" class=\"dataframe\">\n  <thead>\n    <tr style=\"text-align: right;\">\n      <th></th>\n      <th></th>\n      <th>Receiver Midpoint_X</th>\n      <th>Receiver Midpoint_Y</th>\n    </tr>\n    <tr>\n      <th>FFID</th>\n      <th></th>\n      <th></th>\n      <th></th>\n    </tr>\n  </thead>\n  <tbody>\n    <tr>\n      <th>1177</th>\n      <th>0</th>\n      <td>4889226.5</td>\n      <td>76563934.0</td>\n    </tr>\n    <tr>\n      <th>1191</th>\n      <th>0</th>\n      <td>4890626.0</td>\n      <td>76566155.0</td>\n    </tr>\n    <tr>\n      <th>1205</th>\n      <th>0</th>\n      <td>4892036.5</td>\n      <td>76568368.5</td>\n    </tr>\n    <tr>\n      <th>1219</th>\n      <th>0</th>\n      <td>4893477.5</td>\n      <td>76570569.5</td>\n    </tr>\n    <tr>\n      <th>1233</th>\n      <th>0</th>\n      <td>4894884.5</td>\n      <td>76572785.5</td>\n    </tr>\n    <tr>\n      <th>1247</th>\n      <th>0</th>\n      <td>4896271.5</td>\n      <td>76574998.5</td>\n    </tr>\n    <tr>\n      <th>1261</th>\n      <th>0</th>\n      <td>4897741.0</td>\n      <td>76577203.5</td>\n    </tr>\n    <tr>\n      <th>1275</th>\n      <th>0</th>\n      <td>4899200.5</td>\n      <td>76579387.0</td>\n    </tr>\n    <tr>\n      <th>1289</th>\n      <th>0</th>\n      <td>4900645.0</td>\n      <td>76581587.5</td>\n    </tr>\n    <tr>\n      <th>1303</th>\n      <th>0</th>\n      <td>4902078.5</td>\n      <td>76583726.5</td>\n    </tr>\n    <tr>\n      <th>1317</th>\n      <th>0</th>\n      <td>4903477.5</td>\n      <td>76585943.0</td>\n    </tr>\n    <tr>\n      <th>1331</th>\n      <th>0</th>\n      <td>4904858.5</td>\n      <td>76588175.0</td>\n    </tr>\n    <tr>\n      <th>1345</th>\n      <th>0</th>\n      <td>4906251.0</td>\n      <td>76590393.5</td>\n    </tr>\n    <tr>\n      <th>1359</th>\n      <th>0</th>\n      <td>4907651.5</td>\n      <td>76592619.0</td>\n    </tr>\n    <tr>\n      <th>1373</th>\n      <th>0</th>\n      <td>4909066.5</td>\n      <td>76594827.5</td>\n    </tr>\n  </tbody>\n</table>\n</div>"
     },
     "execution_count": 122,
     "metadata": {},
     "output_type": "execute_result"
    }
   ],
   "source": [
    "df.head(15)"
   ],
   "metadata": {
    "collapsed": false,
    "ExecuteTime": {
     "end_time": "2024-07-24T19:42:44.439369Z",
     "start_time": "2024-07-24T19:42:44.425616Z"
    }
   },
   "id": "caf494060cb99ebb",
   "execution_count": 122
  },
  {
   "cell_type": "code",
   "outputs": [],
   "source": [
    "\n",
    "df['FFID'] = df.index.to_series().apply(lambda x: x[0]).values"
   ],
   "metadata": {
    "collapsed": false,
    "ExecuteTime": {
     "end_time": "2024-07-24T19:42:44.689425Z",
     "start_time": "2024-07-24T19:42:44.684425Z"
    }
   },
   "id": "376a9c6a5030dc51",
   "execution_count": 123
  },
  {
   "cell_type": "code",
   "outputs": [
    {
     "data": {
      "text/plain": "        Receiver Midpoint_X  Receiver Midpoint_Y  FFID\nFFID                                                  \n1177 0            4889226.5           76563934.0  1177\n1191 0            4890626.0           76566155.0  1191\n1205 0            4892036.5           76568368.5  1205\n1219 0            4893477.5           76570569.5  1219\n1233 0            4894884.5           76572785.5  1233\n...                     ...                  ...   ...\n2171 0            4989537.0           76720934.5  2171\n2185 0            4991033.0           76723102.5  2185\n2199 0            4992512.0           76725274.0  2199\n2213 0            4993943.5           76727448.0  2213\n2227 0            4995339.5           76729646.5  2227\n\n[76 rows x 3 columns]",
      "text/html": "<div>\n<style scoped>\n    .dataframe tbody tr th:only-of-type {\n        vertical-align: middle;\n    }\n\n    .dataframe tbody tr th {\n        vertical-align: top;\n    }\n\n    .dataframe thead th {\n        text-align: right;\n    }\n</style>\n<table border=\"1\" class=\"dataframe\">\n  <thead>\n    <tr style=\"text-align: right;\">\n      <th></th>\n      <th></th>\n      <th>Receiver Midpoint_X</th>\n      <th>Receiver Midpoint_Y</th>\n      <th>FFID</th>\n    </tr>\n    <tr>\n      <th>FFID</th>\n      <th></th>\n      <th></th>\n      <th></th>\n      <th></th>\n    </tr>\n  </thead>\n  <tbody>\n    <tr>\n      <th>1177</th>\n      <th>0</th>\n      <td>4889226.5</td>\n      <td>76563934.0</td>\n      <td>1177</td>\n    </tr>\n    <tr>\n      <th>1191</th>\n      <th>0</th>\n      <td>4890626.0</td>\n      <td>76566155.0</td>\n      <td>1191</td>\n    </tr>\n    <tr>\n      <th>1205</th>\n      <th>0</th>\n      <td>4892036.5</td>\n      <td>76568368.5</td>\n      <td>1205</td>\n    </tr>\n    <tr>\n      <th>1219</th>\n      <th>0</th>\n      <td>4893477.5</td>\n      <td>76570569.5</td>\n      <td>1219</td>\n    </tr>\n    <tr>\n      <th>1233</th>\n      <th>0</th>\n      <td>4894884.5</td>\n      <td>76572785.5</td>\n      <td>1233</td>\n    </tr>\n    <tr>\n      <th>...</th>\n      <th>...</th>\n      <td>...</td>\n      <td>...</td>\n      <td>...</td>\n    </tr>\n    <tr>\n      <th>2171</th>\n      <th>0</th>\n      <td>4989537.0</td>\n      <td>76720934.5</td>\n      <td>2171</td>\n    </tr>\n    <tr>\n      <th>2185</th>\n      <th>0</th>\n      <td>4991033.0</td>\n      <td>76723102.5</td>\n      <td>2185</td>\n    </tr>\n    <tr>\n      <th>2199</th>\n      <th>0</th>\n      <td>4992512.0</td>\n      <td>76725274.0</td>\n      <td>2199</td>\n    </tr>\n    <tr>\n      <th>2213</th>\n      <th>0</th>\n      <td>4993943.5</td>\n      <td>76727448.0</td>\n      <td>2213</td>\n    </tr>\n    <tr>\n      <th>2227</th>\n      <th>0</th>\n      <td>4995339.5</td>\n      <td>76729646.5</td>\n      <td>2227</td>\n    </tr>\n  </tbody>\n</table>\n<p>76 rows × 3 columns</p>\n</div>"
     },
     "execution_count": 124,
     "metadata": {},
     "output_type": "execute_result"
    }
   ],
   "source": [
    "df"
   ],
   "metadata": {
    "collapsed": false,
    "ExecuteTime": {
     "end_time": "2024-07-24T19:42:44.799194Z",
     "start_time": "2024-07-24T19:42:44.783662Z"
    }
   },
   "id": "746c88a1da1c74c4",
   "execution_count": 124
  },
  {
   "cell_type": "code",
   "outputs": [],
   "source": [
    "def merge_df(coord_df, filepath):\n",
    "    \"\"\"\n",
    "    Merge two dataframes (coord and depth) into a single\n",
    "    :param coord_df: dataframe containing coordinate of central point\n",
    "    :param filepath: filepath to .txt file with depths\n",
    "    :return: merged dataframe\n",
    "    \"\"\"\n",
    "    profile_txt = pd.read_csv(filepath, delimiter=\"\\t\")\n",
    "    profile_txt.rename(columns={\"Receiver Midpoint\": \"Receiver Midpoint_X\"}, inplace=True)\n",
    "    coord_df[\"Receiver Midpoint_X\"] = coord_df[\"Receiver Midpoint_X\"] / 10\n",
    "    coord_df[\"Receiver Midpoint_Y\"] = coord_df[\"Receiver Midpoint_Y\"] / 10\n",
    "    df_last = pd.merge(coord_df, profile_txt, left_on='Receiver Midpoint_X', right_on='Receiver Midpoint_X')\n",
    "    df_last['Depth'] = -df_last['Depth']\n",
    "    df_last.drop(['REC_STAT1', 'REC_STAT2', 'Vs30'], axis=1, inplace=True)\n",
    "    return df_last"
   ],
   "metadata": {
    "collapsed": false,
    "ExecuteTime": {
     "end_time": "2024-07-24T19:42:49.131463Z",
     "start_time": "2024-07-24T19:42:49.124870Z"
    }
   },
   "id": "1c86489a54b3e003",
   "execution_count": 125
  },
  {
   "cell_type": "code",
   "outputs": [],
   "source": [
    "last_df = merge_df(df, '../data/raw/TXT_10/Profile.txt')"
   ],
   "metadata": {
    "collapsed": false,
    "ExecuteTime": {
     "end_time": "2024-07-24T19:42:49.301565Z",
     "start_time": "2024-07-24T19:42:49.288935Z"
    }
   },
   "id": "100654f04e9ec30b",
   "execution_count": 126
  },
  {
   "cell_type": "code",
   "outputs": [
    {
     "data": {
      "text/plain": "     Receiver Midpoint_X  Receiver Midpoint_Y  FFID   Depth  Velocity\n0              488922.65           7656393.40  1177  -4.889   131.861\n1              488922.65           7656393.40  1177 -14.667   143.536\n2              488922.65           7656393.40  1177 -24.444   230.461\n3              488922.65           7656393.40  1177 -34.222   279.696\n4              488922.65           7656393.40  1177 -44.000   297.708\n..                   ...                  ...   ...     ...       ...\n755            499533.95           7672964.65  2227 -53.778   389.716\n756            499533.95           7672964.65  2227 -63.556   343.989\n757            499533.95           7672964.65  2227 -73.333   327.319\n758            499533.95           7672964.65  2227 -83.111   314.909\n759            499533.95           7672964.65  2227 -92.400   309.141\n\n[760 rows x 5 columns]",
      "text/html": "<div>\n<style scoped>\n    .dataframe tbody tr th:only-of-type {\n        vertical-align: middle;\n    }\n\n    .dataframe tbody tr th {\n        vertical-align: top;\n    }\n\n    .dataframe thead th {\n        text-align: right;\n    }\n</style>\n<table border=\"1\" class=\"dataframe\">\n  <thead>\n    <tr style=\"text-align: right;\">\n      <th></th>\n      <th>Receiver Midpoint_X</th>\n      <th>Receiver Midpoint_Y</th>\n      <th>FFID</th>\n      <th>Depth</th>\n      <th>Velocity</th>\n    </tr>\n  </thead>\n  <tbody>\n    <tr>\n      <th>0</th>\n      <td>488922.65</td>\n      <td>7656393.40</td>\n      <td>1177</td>\n      <td>-4.889</td>\n      <td>131.861</td>\n    </tr>\n    <tr>\n      <th>1</th>\n      <td>488922.65</td>\n      <td>7656393.40</td>\n      <td>1177</td>\n      <td>-14.667</td>\n      <td>143.536</td>\n    </tr>\n    <tr>\n      <th>2</th>\n      <td>488922.65</td>\n      <td>7656393.40</td>\n      <td>1177</td>\n      <td>-24.444</td>\n      <td>230.461</td>\n    </tr>\n    <tr>\n      <th>3</th>\n      <td>488922.65</td>\n      <td>7656393.40</td>\n      <td>1177</td>\n      <td>-34.222</td>\n      <td>279.696</td>\n    </tr>\n    <tr>\n      <th>4</th>\n      <td>488922.65</td>\n      <td>7656393.40</td>\n      <td>1177</td>\n      <td>-44.000</td>\n      <td>297.708</td>\n    </tr>\n    <tr>\n      <th>...</th>\n      <td>...</td>\n      <td>...</td>\n      <td>...</td>\n      <td>...</td>\n      <td>...</td>\n    </tr>\n    <tr>\n      <th>755</th>\n      <td>499533.95</td>\n      <td>7672964.65</td>\n      <td>2227</td>\n      <td>-53.778</td>\n      <td>389.716</td>\n    </tr>\n    <tr>\n      <th>756</th>\n      <td>499533.95</td>\n      <td>7672964.65</td>\n      <td>2227</td>\n      <td>-63.556</td>\n      <td>343.989</td>\n    </tr>\n    <tr>\n      <th>757</th>\n      <td>499533.95</td>\n      <td>7672964.65</td>\n      <td>2227</td>\n      <td>-73.333</td>\n      <td>327.319</td>\n    </tr>\n    <tr>\n      <th>758</th>\n      <td>499533.95</td>\n      <td>7672964.65</td>\n      <td>2227</td>\n      <td>-83.111</td>\n      <td>314.909</td>\n    </tr>\n    <tr>\n      <th>759</th>\n      <td>499533.95</td>\n      <td>7672964.65</td>\n      <td>2227</td>\n      <td>-92.400</td>\n      <td>309.141</td>\n    </tr>\n  </tbody>\n</table>\n<p>760 rows × 5 columns</p>\n</div>"
     },
     "execution_count": 127,
     "metadata": {},
     "output_type": "execute_result"
    }
   ],
   "source": [
    "last_df"
   ],
   "metadata": {
    "collapsed": false,
    "ExecuteTime": {
     "end_time": "2024-07-24T19:42:50.017125Z",
     "start_time": "2024-07-24T19:42:50.005720Z"
    }
   },
   "id": "2036cefb51e6e010",
   "execution_count": 127
  },
  {
   "cell_type": "code",
   "outputs": [
    {
     "data": {
      "text/plain": "Receiver Midpoint_X  Receiver Midpoint_Y  FFID  Depth    Velocity\n488922.65            7656393.40           1177  -92.400  305.335     1\n                                                -83.111  305.316     1\n                                                -73.333  305.230     1\n                                                -63.556  304.863     1\n                                                -53.778  303.326     1\n                                                                    ..\n499533.95            7672964.65           2227  -44.000  338.023     1\n                                                -34.222  279.475     1\n                                                -24.444  185.256     1\n                                                -14.667  168.014     1\n                                                -4.889   158.284     1\nName: count, Length: 760, dtype: int64"
     },
     "execution_count": 129,
     "metadata": {},
     "output_type": "execute_result"
    }
   ],
   "source": [
    "grouped_df = last_df.groupby(['Receiver Midpoint_X', 'Receiver Midpoint_Y'])\n",
    "grouped_df.value_counts()"
   ],
   "metadata": {
    "collapsed": false,
    "ExecuteTime": {
     "end_time": "2024-07-24T19:43:43.637492Z",
     "start_time": "2024-07-24T19:43:43.606394Z"
    }
   },
   "id": "8233dab0c43be84b",
   "execution_count": 129
  },
  {
   "cell_type": "code",
   "outputs": [],
   "source": [
    "def txt2sgy(input_df, output_filepath: str) -> None:\n",
    "    grouped_df = input_df.groupby(['Receiver Midpoint_X', 'Receiver Midpoint_Y', 'FFID'])\n",
    "    max_samples = max(group.shape[0] for name, group in grouped_df)\n",
    "    spec = segyio.spec()\n",
    "    spec.ilines = np.arange(1, len(grouped_df)+1)\n",
    "    spec.xlines = np.arange(1)\n",
    "    spec.samples = np.arange(max_samples)\n",
    "    spec.format = 1\n",
    "\n",
    "    with segyio.create(output_filepath, spec) as f:\n",
    "        f.text[0] = segyio.tools.wrap(\"Created with segyio\")\n",
    "        f.bin.update({\n",
    "            segyio.BinField.Interval: 100,\n",
    "            segyio.BinField.Samples: max_samples,\n",
    "            segyio.BinField.Format: 1,\n",
    "        })\n",
    "\n",
    "        trace_idx = 0\n",
    "\n",
    "        for (x, y, ffid), group in grouped_df:\n",
    "            group = group.sort_values(by='Depth', ascending=False)\n",
    "\n",
    "            trace_data = np.zeros(max_samples, dtype=np.float32)\n",
    "            trace_data[:len(group['Velocity'])] = group['Velocity'].values\n",
    "\n",
    "            f.trace[trace_idx] = trace_data\n",
    "\n",
    "            f.header[trace_idx].update({\n",
    "                segyio.TraceField.SourceGroupScalar: -100,\n",
    "                segyio.TraceField.ElevationScalar: -100,\n",
    "                segyio.TraceField.CDP_X: int(x*100),\n",
    "                segyio.TraceField.CDP_Y: int(y*100),\n",
    "                segyio.TraceField.SourceX: int(x * 100),\n",
    "                segyio.TraceField.SourceY: int(y * 100),\n",
    "                segyio.TraceField.TRACE_SAMPLE_COUNT: max_samples,\n",
    "                segyio.TraceField.TRACE_SAMPLE_INTERVAL: 10000,\n",
    "                segyio.TraceField.FieldRecord: ffid,\n",
    "                segyio.TraceField.TraceNumber: trace_idx+1\n",
    "\n",
    "            })\n",
    "\n",
    "            trace_idx += 1"
   ],
   "metadata": {
    "collapsed": false,
    "ExecuteTime": {
     "end_time": "2024-07-24T19:55:41.204117Z",
     "start_time": "2024-07-24T19:55:41.182839Z"
    }
   },
   "id": "b11ec0d8661aeead",
   "execution_count": 135
  },
  {
   "cell_type": "code",
   "outputs": [],
   "source": [
    "txt2sgy(last_df, '../data/interim/OUTPUT/Profile.sgy')"
   ],
   "metadata": {
    "collapsed": false,
    "ExecuteTime": {
     "end_time": "2024-07-24T19:55:42.694383Z",
     "start_time": "2024-07-24T19:55:42.623259Z"
    }
   },
   "id": "6fc6a032848eca5f",
   "execution_count": 136
  },
  {
   "cell_type": "code",
   "outputs": [
    {
     "name": "stdout",
     "output_type": "stream",
     "text": [
      "{TRACE_SEQUENCE_LINE: 0, TRACE_SEQUENCE_FILE: 0, FieldRecord: 1219, TraceNumber: 4, EnergySourcePoint: 0, CDP: 0, CDP_TRACE: 0, TraceIdentificationCode: 0, NSummedTraces: 0, NStackedTraces: 0, DataUse: 0, offset: 0, ReceiverGroupElevation: 0, SourceSurfaceElevation: 0, SourceDepth: 0, ReceiverDatumElevation: 0, SourceDatumElevation: 0, SourceWaterDepth: 0, GroupWaterDepth: 0, ElevationScalar: -100, SourceGroupScalar: -100, SourceX: 48934775, SourceY: 765705695, GroupX: 0, GroupY: 0, CoordinateUnits: 0, WeatheringVelocity: 0, SubWeatheringVelocity: 0, SourceUpholeTime: 0, GroupUpholeTime: 0, SourceStaticCorrection: 0, GroupStaticCorrection: 0, TotalStaticApplied: 0, LagTimeA: 0, LagTimeB: 0, DelayRecordingTime: 0, MuteTimeStart: 0, MuteTimeEND: 0, TRACE_SAMPLE_COUNT: 10, TRACE_SAMPLE_INTERVAL: 10000, GainType: 0, InstrumentGainConstant: 0, InstrumentInitialGain: 0, Correlated: 0, SweepFrequencyStart: 0, SweepFrequencyEnd: 0, SweepLength: 0, SweepType: 0, SweepTraceTaperLengthStart: 0, SweepTraceTaperLengthEnd: 0, TaperType: 0, AliasFilterFrequency: 0, AliasFilterSlope: 0, NotchFilterFrequency: 0, NotchFilterSlope: 0, LowCutFrequency: 0, HighCutFrequency: 0, LowCutSlope: 0, HighCutSlope: 0, YearDataRecorded: 0, DayOfYear: 0, HourOfDay: 0, MinuteOfHour: 0, SecondOfMinute: 0, TimeBaseCode: 0, TraceWeightingFactor: 0, GeophoneGroupNumberRoll1: 0, GeophoneGroupNumberFirstTraceOrigField: 0, GeophoneGroupNumberLastTraceOrigField: 0, GapSize: 0, OverTravel: 0, CDP_X: 48934775, CDP_Y: 765705695, INLINE_3D: 0, CROSSLINE_3D: 0, ShotPoint: 0, ShotPointScalar: 0, TraceValueMeasurementUnit: 0, TransductionConstantMantissa: 0, TransductionConstantPower: 0, TransductionUnit: 0, TraceIdentifier: 0, ScalarTraceHeader: 0, SourceType: 0, SourceEnergyDirectionMantissa: 0, SourceEnergyDirectionExponent: 0, SourceMeasurementMantissa: 0, SourceMeasurementExponent: 0, SourceMeasurementUnit: 0}\n"
     ]
    }
   ],
   "source": [
    "filename = \"../data/raw/MAX_SGY/For_Masw_Resample.sgy\"\n",
    "with segyio.open('../data/interim/OUTPUT/Profile.sgy', \"r\", endian='big', ignore_geometry=True) as segyfile:\n",
    "    print(segyfile.header[3])\n",
    "#FieldRecord - FFID 1 сортировка\n",
    "#TraceNumber - CHAN 2 сортировка\n",
    "#SourceX, SourceY - координаты источника * SourceGroupScalar\n",
    "#GroupX, SourceY - координаты приемника * ElevationScalar"
   ],
   "metadata": {
    "collapsed": false,
    "ExecuteTime": {
     "end_time": "2024-07-24T19:55:51.046228Z",
     "start_time": "2024-07-24T19:55:51.030938Z"
    }
   },
   "id": "e8b68388967315a",
   "execution_count": 139
  },
  {
   "cell_type": "code",
   "outputs": [],
   "source": [],
   "metadata": {
    "collapsed": false
   },
   "id": "a62b0bd3b51c0652"
  }
 ],
 "metadata": {
  "kernelspec": {
   "display_name": "Python 3",
   "language": "python",
   "name": "python3"
  },
  "language_info": {
   "codemirror_mode": {
    "name": "ipython",
    "version": 2
   },
   "file_extension": ".py",
   "mimetype": "text/x-python",
   "name": "python",
   "nbconvert_exporter": "python",
   "pygments_lexer": "ipython2",
   "version": "2.7.6"
  }
 },
 "nbformat": 4,
 "nbformat_minor": 5
}
